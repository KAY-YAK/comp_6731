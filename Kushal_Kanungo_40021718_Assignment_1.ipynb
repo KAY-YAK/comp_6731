{
 "cells": [
  {
   "cell_type": "markdown",
   "metadata": {},
   "source": [
    "# Comp 6731 Assignment_1"
   ]
  },
  {
   "cell_type": "markdown",
   "metadata": {},
   "source": [
    "## Q1. Assume a two-class classification problem, of w1 and w2, and suppose x is random variable taking real number values (x∈R) , and p(x|w1) and p(x|w2) are defined as follows:           \n",
    "             \n"
   ]
  },
  {
   "cell_type": "markdown",
   "metadata": {},
   "source": [
    " $$p(x|{{w}_{1}})=\\frac{1}{\\sqrt{2\\pi }}{{e}^{-\\frac{{{x}^{2}}}{2}}},\\forall x$$\n",
    "                              $$p(x|{{w}_{2}})=\\frac{1}{4},-2<x<2$$"
   ]
  },
  {
   "cell_type": "markdown",
   "metadata": {},
   "source": [
    "### a. [3 points] Draw a graph showing these two probability density functions (PDFs)\n",
    "\n"
   ]
  },
  {
   "cell_type": "code",
   "execution_count": 3,
   "metadata": {
    "collapsed": true
   },
   "outputs": [],
   "source": [
    "import matplotlib.pyplot as plt\n",
    "import numpy as np\n",
    "#This prints the plots in jupyter notebook\n",
    "%matplotlib  inline"
   ]
  },
  {
   "cell_type": "code",
   "execution_count": 94,
   "metadata": {},
   "outputs": [
    {
     "data": {
      "text/plain": [
       "[<matplotlib.lines.Line2D at 0x1d209eed550>]"
      ]
     },
     "execution_count": 94,
     "metadata": {},
     "output_type": "execute_result"
    },
    {
     "data": {
      "image/png": "[encoded data removed]",
      "text/plain": [
       "<matplotlib.figure.Figure at 0x1d209c94d68>"
      ]
     },
     "metadata": {},
     "output_type": "display_data"
    }
   ],
   "source": [
    "x = np.linspace(-4,4,1000)\n",
    "y = np.exp(-x**2/2)/np.sqrt(2*np.pi)\n",
    "plt.plot(x,y,'c')"
   ]
  },
  {
   "cell_type": "code",
   "execution_count": 95,
   "metadata": {},
   "outputs": [
    {
     "name": "stderr",
     "output_type": "stream",
     "text": [
      "C:\\Users\\Turiya\\Anaconda3\\lib\\site-packages\\ipykernel_launcher.py:3: RuntimeWarning: invalid value encountered in greater_equal\n",
      "  This is separate from the ipykernel package so we can avoid doing imports until\n"
     ]
    },
    {
     "data": {
      "text/plain": [
       "[<matplotlib.lines.Line2D at 0x1d209f93cc0>]"
      ]
     },
     "execution_count": 95,
     "metadata": {},
     "output_type": "execute_result"
    },
    {
     "data": {
      "image/png": "[encoded data removed]",
      "text/plain": [
       "<matplotlib.figure.Figure at 0x1d209f384e0>"
      ]
     },
     "metadata": {},
     "output_type": "display_data"
    }
   ],
   "source": [
    "x = np.linspace(-2,2,1000)\n",
    "x[x <= -2] = np.nan\n",
    "x[x >= 2] = np.nan\n",
    "y = .25 * x**0\n",
    "plt.plot(x,y,'c')"
   ]
  },
  {
   "cell_type": "markdown",
   "metadata": {},
   "source": [
    "### b. [6 points] Assume P(w1) = 0.7, and P(w2) = 0.3, draw the two posterior probability functions of p(w1|x) and p(w2|x)."
   ]
  },
  {
   "cell_type": "markdown",
   "metadata": {},
   "source": [
    "$$p({{w}_{1}}|x)=\\frac{p(x|{{w}_{1}})p({{w}_{1}})}{p(x|{{w}_{1}})p({{w}_{1}})+p(x|{{w}_{2}})p({{w}_{2}})}$$\n",
    "\n",
    "$$p({{w}_{2}}|x)=\\frac{p(x|{{w}_{2}})p({{w}_{2}})}{p(x|{{w}_{1}})p({{w}_{1}})+p(x|{{w}_{2}})p({{w}_{2}})}$$"
   ]
  },
  {
   "cell_type": "code",
   "execution_count": 105,
   "metadata": {},
   "outputs": [
    {
     "name": "stderr",
     "output_type": "stream",
     "text": [
      "C:\\Users\\Turiya\\Anaconda3\\lib\\site-packages\\ipykernel_launcher.py:11: RuntimeWarning: invalid value encountered in less_equal\n",
      "  # This is added back by InteractiveShellApp.init_path()\n"
     ]
    },
    {
     "data": {
      "text/plain": [
       "<matplotlib.text.Text at 0x1d20b467e48>"
      ]
     },
     "execution_count": 105,
     "metadata": {},
     "output_type": "execute_result"
    },
    {
     "data": {
      "image/png": "[encoded data removed]",
      "text/plain": [
       "<matplotlib.figure.Figure at 0x1d20a08e4e0>"
      ]
     },
     "metadata": {},
     "output_type": "display_data"
    }
   ],
   "source": [
    "# for x>=2 and x<=-2 \n",
    "x = np.linspace(-4,4,1000)\n",
    "x[x>=2] = 1\n",
    "x[x<=-2] = 1\n",
    "x[x!=1] = np.nan\n",
    "y1 = x\n",
    "\n",
    "# for -2<x<2\n",
    "x = np.linspace(-4,4,1000)\n",
    "x[x>=2] = np.nan\n",
    "x[x<=-2] = np.nan\n",
    "temp = (np.exp(-x**2/2)/np.sqrt(2*np.pi)) * 0.7\n",
    "y2 = temp / (temp + 0.075)\n",
    "x = np.linspace(-4,4,1000)\n",
    "plt.plot(x,y1,'c')\n",
    "plt.plot(x,y2,'c')\n",
    "plt.title(\"p(w1|x)\")"
   ]
  },
  {
   "cell_type": "code",
   "execution_count": 106,
   "metadata": {},
   "outputs": [
    {
     "name": "stderr",
     "output_type": "stream",
     "text": [
      "C:\\Users\\Turiya\\Anaconda3\\lib\\site-packages\\ipykernel_launcher.py:3: RuntimeWarning: invalid value encountered in less_equal\n",
      "  This is separate from the ipykernel package so we can avoid doing imports until\n"
     ]
    },
    {
     "data": {
      "text/plain": [
       "<matplotlib.text.Text at 0x1d20b514908>"
      ]
     },
     "execution_count": 106,
     "metadata": {},
     "output_type": "execute_result"
    },
    {
     "data": {
      "image/png": "[encoded data removed]",
      "text/plain": [
       "<matplotlib.figure.Figure at 0x1d20b4ee1d0>"
      ]
     },
     "metadata": {},
     "output_type": "display_data"
    }
   ],
   "source": [
    "x = np.linspace(-4,4,1000)\n",
    "x[x>=2] = np.nan\n",
    "x[x<=-2] = np.nan\n",
    "temp = (np.exp(-x**2/2)/np.sqrt(2*np.pi)) * 0.7\n",
    "y3 = 0.075 / (temp + 0.075)\n",
    "plt.plot(x,y3,'r')\n",
    "plt.xlim(-4,4)\n",
    "plt.title(\"p(w2|x)\")"
   ]
  },
  {
   "cell_type": "markdown",
   "metadata": {},
   "source": [
    "### c. [6 points] According to Bayesian classification rule, and using the functions or diagrams in (b), show the decision region for each class w1, w2, on those two graphs in (a) and (b)"
   ]
  },
  {
   "cell_type": "code",
   "execution_count": 107,
   "metadata": {},
   "outputs": [
    {
     "data": {
      "text/plain": [
       "[<matplotlib.lines.Line2D at 0x1d20b5d1a20>]"
      ]
     },
     "execution_count": 107,
     "metadata": {},
     "output_type": "execute_result"
    },
    {
     "data": {
      "image/png": "[encoded data removed]",
      "text/plain": [
       "<matplotlib.figure.Figure at 0x1d2099f2fd0>"
      ]
     },
     "metadata": {},
     "output_type": "display_data"
    }
   ],
   "source": [
    "x = np.linspace(-4,4,1000)\n",
    "plt.plot(x,y1,'c')\n",
    "plt.plot(x,y2,'c')\n",
    "plt.plot(x,y3,'r')\n",
    "\n"
   ]
  },
  {
   "cell_type": "markdown",
   "metadata": {},
   "source": [
    "- Region on **left** before **-2** we predict **w1**\n",
    "- Region between **-2** and **-2.something** we predict **w2**\n",
    "- Region in **middle** we predict **w1** \n",
    "- Region between **1.something** and  **2** we predict **w2**\n",
    "- Region on **right** we predict **w2**  "
   ]
  },
  {
   "cell_type": "markdown",
   "metadata": {},
   "source": [
    "### d. [6 points] Change prior probabilities of the two classes to P(w1) = P(w2) =0.5 and then repeat parts (a), (b) and (c), what is your conclusion?"
   ]
  },
  {
   "cell_type": "code",
   "execution_count": 112,
   "metadata": {},
   "outputs": [
    {
     "name": "stderr",
     "output_type": "stream",
     "text": [
      "C:\\Users\\Turiya\\Anaconda3\\lib\\site-packages\\ipykernel_launcher.py:11: RuntimeWarning: invalid value encountered in less_equal\n",
      "  # This is added back by InteractiveShellApp.init_path()\n"
     ]
    },
    {
     "data": {
      "text/plain": [
       "<matplotlib.text.Text at 0x1d20b8d5b38>"
      ]
     },
     "execution_count": 112,
     "metadata": {},
     "output_type": "execute_result"
    },
    {
     "data": {
      "image/png": "[encoded data removed]",
      "text/plain": [
       "<matplotlib.figure.Figure at 0x1d20b78e828>"
      ]
     },
     "metadata": {},
     "output_type": "display_data"
    }
   ],
   "source": [
    "# for x>=2 and x<=-2 \n",
    "x = np.linspace(-4,4,1000)\n",
    "x[x>=2] = 1\n",
    "x[x<=-2] = 1\n",
    "x[x!=1] = np.nan\n",
    "y1 = x\n",
    "\n",
    "# for -2<x<2\n",
    "x = np.linspace(-4,4,1000)\n",
    "x[x>=2] = np.nan\n",
    "x[x<=-2] = np.nan\n",
    "temp = (np.exp(-x**2/2)/np.sqrt(2*np.pi)) * 0.5\n",
    "y2 = temp / (temp + 0.125)\n",
    "x = np.linspace(-4,4,1000)\n",
    "plt.plot(x,y1,'c')\n",
    "plt.plot(x,y2,'c')\n",
    "plt.title(\"p(w1|x)\")"
   ]
  },
  {
   "cell_type": "code",
   "execution_count": 113,
   "metadata": {},
   "outputs": [
    {
     "name": "stderr",
     "output_type": "stream",
     "text": [
      "C:\\Users\\Turiya\\Anaconda3\\lib\\site-packages\\ipykernel_launcher.py:3: RuntimeWarning: invalid value encountered in less_equal\n",
      "  This is separate from the ipykernel package so we can avoid doing imports until\n"
     ]
    },
    {
     "data": {
      "text/plain": [
       "<matplotlib.text.Text at 0x1d20b97ad30>"
      ]
     },
     "execution_count": 113,
     "metadata": {},
     "output_type": "execute_result"
    },
    {
     "data": {
      "image/png": "[encoded data removed]",
      "text/plain": [
       "<matplotlib.figure.Figure at 0x1d20b6819b0>"
      ]
     },
     "metadata": {},
     "output_type": "display_data"
    }
   ],
   "source": [
    "x = np.linspace(-4,4,1000)\n",
    "x[x>=2] = np.nan\n",
    "x[x<=-2] = np.nan\n",
    "temp = (np.exp(-x**2/2)/np.sqrt(2*np.pi)) * 0.5\n",
    "y3 = 0.125 / (temp + 0.125)\n",
    "plt.plot(x,y3,'r')\n",
    "plt.xlim(-4,4)\n",
    "plt.title(\"p(w2|x)\")"
   ]
  },
  {
   "cell_type": "code",
   "execution_count": 114,
   "metadata": {},
   "outputs": [
    {
     "data": {
      "text/plain": [
       "[<matplotlib.lines.Line2D at 0x1d20ba39f28>]"
      ]
     },
     "execution_count": 114,
     "metadata": {},
     "output_type": "execute_result"
    },
    {
     "data": {
      "image/png": "[encoded data removed]",
      "text/plain": [
       "<matplotlib.figure.Figure at 0x1d20b876a58>"
      ]
     },
     "metadata": {},
     "output_type": "display_data"
    }
   ],
   "source": [
    "x = np.linspace(-4,4,1000)\n",
    "plt.plot(x,y1,'c')\n",
    "plt.plot(x,y2,'c')\n",
    "plt.plot(x,y3,'r')\n"
   ]
  },
  {
   "cell_type": "markdown",
   "metadata": {},
   "source": [
    "- We always predict **w2** from -2 to -1 and from 1 to 2. Everywhere else we predict **w1**. Also, we can see that the region where we predict **w2** has increased"
   ]
  },
  {
   "cell_type": "markdown",
   "metadata": {},
   "source": [
    "### e. [6 points] Assuming P(w1) = 0.7, P(w2) =0.3, find the minimum error classification rule g(x) for this two-class classification problem (find the equation for discriminant function g(x)) "
   ]
  },
  {
   "cell_type": "markdown",
   "metadata": {},
   "source": [
    "If we replace every\n",
    "${{g}_{i}}(x)$ by $f({{g}_{i}}(x))$, where $f(•)$ is a monotonically increasing function, the resulting\n",
    "classification is unchanged. \n",
    "\n",
    "$$g(x)=p({{w}_{1}}|x)-p({{w}_{2}}|x)$$ \n",
    "\n",
    "By applying log,\n",
    "$$g(x)=\\ln \\left( \\frac{p(x|{{w}_{1}})p({{w}_{1}})}{p(x)} \\right)-\\ln \\left( \\frac{p(x|{{w}_{2}})p({{w}_{2}})}{p(x)} \\right)$$ \n",
    "\n",
    "Note that we are applying log to each discriminant function ${{g}_{i}}(x)$\n",
    "\n",
    "$$\n",
    "\\begin{align}\n",
    "  & g(x)\\,\\,=ln\\left( p(x|{{w}_{1}})p({{w}_{1}}) \\right)-ln(p(x))-ln\\left( p(x|{{w}_{2}})p({{w}_{2}}) \\right)+ln(p(x)) \\\\ \n",
    " & \\,\\,\\,\\,\\,\\,\\,\\,\\,\\,\\,=ln\\left( p(x|{{w}_{1}})p({{w}_{1}}) \\right)-ln\\left( p(x|{{w}_{2}})p({{w}_{2}}) \\right) \\\\ \n",
    " & \\,\\,\\,\\,\\,\\,\\,\\,\\,\\,\\,=ln\\left( \\frac{p(x|{{w}_{1}})p({{w}_{1}})}{p(x|{{w}_{2}})p({{w}_{2}})} \\right) \\\\ \n",
    " & \\,\\,\\,\\,\\,\\,\\,\\,\\,\\,\\,=ln\\left( \\frac{p(x|{{w}_{1}})}{p(x|{{w}_{2}})}\\,\\,\\,\\,\\frac{p({{w}_{1}})}{p({{w}_{2}})} \\right) \\\\ \n",
    " & \\,\\,\\,\\,\\,\\,\\,\\,\\,\\,\\,=ln\\left( \\frac{p(x|{{w}_{1}})}{p(x|{{w}_{2}})} \\right)+ln\\left( \\frac{p({{w}_{1}})}{p({{w}_{2}})} \\right) \\\\ \n",
    "\\end{align}\n",
    "$$\n",
    "\n",
    "Therefore, our discriminant function for the given problem is,\n",
    "$$\n",
    "g(x)=\\left\\{ \\begin{matrix}\n",
    "   \\ln \\left( \\frac{4}{\\sqrt{2\\pi }}\\,{{e}^{-\\frac{{{x}^{2}}}{2}}} \\right)\\,+\\,\\ln \\left( \\frac{0.7}{0.3} \\right)\\,\\,\\,\\,\\,\\,\\,\\,,\\,-2<x<2  \\\\\n",
    "   \\ln \\left( \\frac{1}{\\sqrt{2\\pi }}\\,{{e}^{-\\frac{{{x}^{2}}}{2}}} \\right)\\,+\\,\\ln \\left( \\frac{0.7}{0.3} \\right)\\,\\,\\,,\\,x\\le -2,x\\ge 2  \\\\\n",
    "\\end{matrix} \\right.\n",
    "$$\n",
    "\n",
    "Decide ${{w}_{1}}$ if g(x) > 0; otherwise decide ${{w}_{2}}$.\n",
    "\n"
   ]
  },
  {
   "cell_type": "markdown",
   "metadata": {
    "collapsed": true
   },
   "source": [
    "### f. [6 points] There is a specific prior probability P(w1) for class 1 shown as P* (0< P* < 1), such for all P(w1) >= P*, the minimum error classification rule is to always decide class w1 regardless of x. find that P*. "
   ]
  },
  {
   "cell_type": "markdown",
   "metadata": {},
   "source": [
    "So, we want $g(x)=p({{w}_{1}}|x)-p({{w}_{2}}|x)$ to be greater than $0$ for $-2 < x < 2$"
   ]
  },
  {
   "cell_type": "markdown",
   "metadata": {},
   "source": [
    "So, $p({{w}_{1}})={{P}^{*}}$ and $p({{w}_{2}})=1 -{{P}^{*}}$"
   ]
  },
  {
   "cell_type": "markdown",
   "metadata": {},
   "source": [
    "$$\n",
    "\\begin{align}\n",
    "  & p({{w}_{1}}|x)>p({{w}_{2}}|x) \\\\\n",
    "  &  \\\\ \n",
    " & \\Rightarrow \\frac{p(x|{{w}_{1}})p({{w}_{1}})}{p(x)}>\\frac{p(x|{{w}_{2}})p({{w}_{2}})}{p(x)} \\\\ \n",
    " &  \\\\ \n",
    " & \\Rightarrow p(x|{{w}_{1}})p({{w}_{1}})>p(x|{{w}_{2}})p({{w}_{2}}) \\\\ \n",
    " &  \\\\ \n",
    " & \\Rightarrow p(x|{{w}_{1}})\\,{{P}^{*}}>p(x|{{w}_{2}})(1-{{P}^{*}}) \\\\\n",
    " &  \\\\ \n",
    " & \\Rightarrow p(x|{{w}_{1}})\\,{{P}^{*}}>p(x|{{w}_{2}})-p(x|{{w}_{2}}){{P}^{*}} \\\\ \n",
    " &  \\\\ \n",
    " & \\Rightarrow {{P}^{*}}>\\frac{p(x|{{w}_{2}})}{p(x|w1)+p(x|{{w}_{2}})} \\\\ \n",
    "\\end{align}\n",
    "$$"
   ]
  },
  {
   "cell_type": "markdown",
   "metadata": {},
   "source": [
    "   \n",
    "$$ \n",
    "\\begin{align}\n",
    " &  \\\\ \n",
    "  &  \\\\ \n",
    "   &  \\\\ \n",
    "    &  \\\\ \n",
    "  & \\frac{p(x|{{w}_{2}})}{p(x|w1)+p(x|{{w}_{2}})} \\\\ \n",
    " &  \\\\ \n",
    " & =\\frac{{}^{1}/{}_{4}}{{}^{{{e}^{-\\frac{{{x}^{2}}}{2}}}}/{}_{\\sqrt{2\\pi }}+{}^{1}/{}_{4}} \\\\ \n",
    " &  \\\\ \n",
    " & =\\frac{\\sqrt{2\\pi }}{4{{e}^{-\\frac{{{x}^{2}}}{2}}}+\\sqrt{2\\pi }} \\\\ \n",
    "\\end{align}\n",
    "$$"
   ]
  },
  {
   "cell_type": "markdown",
   "metadata": {},
   "source": [
    "So, ${{P}^{*}}>\\frac{\\sqrt{2\\pi }}{4{{e}^{-\\frac{{{x}^{2}}}{2}}}+\\sqrt{2\\pi }}\\,\\,,-2<x<2\\,$"
   ]
  },
  {
   "cell_type": "code",
   "execution_count": 117,
   "metadata": {},
   "outputs": [
    {
     "name": "stderr",
     "output_type": "stream",
     "text": [
      "C:\\Users\\Turiya\\Anaconda3\\lib\\site-packages\\ipykernel_launcher.py:3: RuntimeWarning: invalid value encountered in less_equal\n",
      "  This is separate from the ipykernel package so we can avoid doing imports until\n"
     ]
    },
    {
     "data": {
      "image/png": "[encoded data removed]",
      "text/plain": [
       "<matplotlib.figure.Figure at 0x1d20b937160>"
      ]
     },
     "metadata": {},
     "output_type": "display_data"
    }
   ],
   "source": [
    "x = np.linspace(-4,4,1000)\n",
    "x[x >= 2] = np.nan\n",
    "x[x <= -2] = np.nan\n",
    "y = np.sqrt(2*np.pi)/(4*np.exp(-x**2/2)+np.sqrt(2*np.pi))\n",
    "plt.rc('grid', linestyle=\"-\", color='black')\n",
    "plt.plot(x,y,'g')\n",
    "plt.grid(True)\n"
   ]
  },
  {
   "cell_type": "markdown",
   "metadata": {},
   "source": [
    "From above we can see that the function is max at 2 and -2. \n",
    "So, the value of the function at 2 is"
   ]
  },
  {
   "cell_type": "code",
   "execution_count": 119,
   "metadata": {},
   "outputs": [
    {
     "name": "stdout",
     "output_type": "stream",
     "text": [
      "Maximum value =  0.822392858799\n"
     ]
    }
   ],
   "source": [
    "y = np.sqrt(2*np.pi)/(4*np.exp(-2**2/2)+np.sqrt(2*np.pi))\n",
    "print(\"Maximum value = \",y)"
   ]
  },
  {
   "cell_type": "markdown",
   "metadata": {},
   "source": [
    "So, ${{P}^{*}} = 0.822392858799$. Note that the function is not defined at 2 but at 2 the function will reach near the given value and so, we can pick that as our ${{P}^{*}}$"
   ]
  },
  {
   "cell_type": "markdown",
   "metadata": {},
   "source": [
    "### [3 points] Using this P* as prior probability for class 1, draw the graphs of the two posterior probability functions of p(w1|x) and p(w2|x), and verify your answer for P*. "
   ]
  },
  {
   "cell_type": "code",
   "execution_count": 120,
   "metadata": {},
   "outputs": [
    {
     "name": "stderr",
     "output_type": "stream",
     "text": [
      "C:\\Users\\Turiya\\Anaconda3\\lib\\site-packages\\ipykernel_launcher.py:11: RuntimeWarning: invalid value encountered in less_equal\n",
      "  # This is added back by InteractiveShellApp.init_path()\n",
      "C:\\Users\\Turiya\\Anaconda3\\lib\\site-packages\\ipykernel_launcher.py:19: RuntimeWarning: invalid value encountered in less_equal\n"
     ]
    },
    {
     "data": {
      "text/plain": [
       "[<matplotlib.lines.Line2D at 0x1d20bb9bef0>]"
      ]
     },
     "execution_count": 120,
     "metadata": {},
     "output_type": "execute_result"
    },
    {
     "data": {
      "image/png": "[encoded data removed]",
      "text/plain": [
       "<matplotlib.figure.Figure at 0x1d20ba4f710>"
      ]
     },
     "metadata": {},
     "output_type": "display_data"
    }
   ],
   "source": [
    "# for x>=2 and x<=-2 \n",
    "x = np.linspace(-4,4,1000)\n",
    "x[x>=2] = 1\n",
    "x[x<=-2] = 1\n",
    "x[x!=1] = np.nan\n",
    "y1 = x\n",
    "\n",
    "# for -2<x<2\n",
    "x = np.linspace(-4,4,1000)\n",
    "x[x>=2] = np.nan\n",
    "x[x<=-2] = np.nan\n",
    "temp = (np.exp(-x**2/2)/np.sqrt(2*np.pi)) * 0.822392858799\n",
    "y2 = temp / (temp + ((1-0.822392858799)*.25))\n",
    "x = np.linspace(-4,4,1000)\n",
    "\n",
    "\n",
    "x = np.linspace(-4,4,1000)\n",
    "x[x>=2] = np.nan\n",
    "x[x<=-2] = np.nan\n",
    "temp = (np.exp(-x**2/2)/np.sqrt(2*np.pi)) * 0.822392858799\n",
    "y3 = ((1-0.822392858799)*.25) / (temp + ((1-0.822392858799)*.25))\n",
    "\n",
    "\n",
    "x = np.linspace(-4,4,1000)\n",
    "plt.plot(x,y1,'c')\n",
    "plt.plot(x,y2,'c')\n",
    "plt.plot(x,y3,'r')"
   ]
  },
  {
   "cell_type": "markdown",
   "metadata": {
    "collapsed": true
   },
   "source": [
    "- So, we predict **w1** irrespective of $x$"
   ]
  },
  {
   "cell_type": "markdown",
   "metadata": {},
   "source": [
    "## Q2: [10 points] Suppose there is a two-class classification problem, with a one-dimensional feature vector x with the Gaussian distributions: p(x|w1) ~N(−2, 3), and p(x|w2) ~N(2, 3) and equal prior probabilities of p(w1) and p(w2). To find a good classifier, you are given as much training data as you would like and you are free to pick any method. What is the best error on test data that any learning algorithm can attain and why? Note: use Bayes decision rule and show the details of your reasoning. "
   ]
  },
  {
   "cell_type": "code",
   "execution_count": 39,
   "metadata": {},
   "outputs": [
    {
     "data": {
      "text/plain": [
       "<matplotlib.text.Text at 0x1ea5da6e710>"
      ]
     },
     "execution_count": 39,
     "metadata": {},
     "output_type": "execute_result"
    },
    {
     "data": {
      "image/png": "[encoded data removed]",
      "text/plain": [
       "<matplotlib.figure.Figure at 0x1ea5da26630>"
      ]
     },
     "metadata": {},
     "output_type": "display_data"
    }
   ],
   "source": [
    "mu = -2\n",
    "variance = 3\n",
    "sigma = np.sqrt(3)\n",
    "x1 = np.linspace(-sigma*4+mu,sigma*4+mu,1000)\n",
    "\n",
    "y1 = (1/(sigma*np.sqrt(2*np.pi))) * np.exp(-(x1-mu)**2 /(2*variance))\n",
    "plt.plot(x1,y1,'c')\n",
    "plt.title(\"p(x|w1)\")"
   ]
  },
  {
   "cell_type": "code",
   "execution_count": 40,
   "metadata": {},
   "outputs": [
    {
     "data": {
      "text/plain": [
       "<matplotlib.text.Text at 0x1ea5dafedd8>"
      ]
     },
     "execution_count": 40,
     "metadata": {},
     "output_type": "execute_result"
    },
    {
     "data": {
      "image/png": "[encoded data removed]",
      "text/plain": [
       "<matplotlib.figure.Figure at 0x1ea5dab8128>"
      ]
     },
     "metadata": {},
     "output_type": "display_data"
    }
   ],
   "source": [
    "mu = 2\n",
    "variance = 3\n",
    "sigma = np.sqrt(3)\n",
    "x2 = np.linspace(-sigma*4+mu,sigma*4+mu,1000)\n",
    "\n",
    "y2 = (1/(sigma*np.sqrt(2*np.pi))) * np.exp(-(x2-mu)**2 /(2*variance))\n",
    "plt.plot(x2,y2,'r')\n",
    "plt.title(\"p(x|w2)\")"
   ]
  },
  {
   "cell_type": "code",
   "execution_count": 42,
   "metadata": {},
   "outputs": [
    {
     "data": {
      "text/plain": [
       "<matplotlib.text.Text at 0x1ea5dc3fe48>"
      ]
     },
     "execution_count": 42,
     "metadata": {},
     "output_type": "execute_result"
    },
    {
     "data": {
      "image/png": "[encoded data removed]",
      "text/plain": [
       "<matplotlib.figure.Figure at 0x1ea5dac5160>"
      ]
     },
     "metadata": {},
     "output_type": "display_data"
    }
   ],
   "source": [
    "#POSTERIOR p(x|w1)\n",
    "x = np.linspace(-10,10,1000)\n",
    "p_x = (1/(np.sqrt(3)*np.sqrt(2*np.pi))) * np.exp(-(x+2)**2 /(2*3)) + (1/(np.sqrt(3)*np.sqrt(2*np.pi))) * np.exp(-(x-2)**2 /(2*3))\n",
    "temp = (1/(np.sqrt(3)*np.sqrt(2*np.pi))) * np.exp(-(x+2)**2 /(2*3))\n",
    "y1 = temp/p_x\n",
    "plt.plot(x,y1,'c')\n",
    "plt.title(\"p(w1|x)\")"
   ]
  },
  {
   "cell_type": "code",
   "execution_count": 43,
   "metadata": {},
   "outputs": [
    {
     "data": {
      "text/plain": [
       "<matplotlib.text.Text at 0x1ea5ecb6048>"
      ]
     },
     "execution_count": 43,
     "metadata": {},
     "output_type": "execute_result"
    },
    {
     "data": {
      "image/png": "[encoded data removed]",
      "text/plain": [
       "<matplotlib.figure.Figure at 0x1ea5d86be10>"
      ]
     },
     "metadata": {},
     "output_type": "display_data"
    }
   ],
   "source": [
    "x = np.linspace(-10,10,1000)\n",
    "p_x = (1/(np.sqrt(3)*np.sqrt(2*np.pi))) * np.exp(-(x+2)**2 /(2*3)) + (1/(np.sqrt(3)*np.sqrt(2*np.pi))) * np.exp(-(x-2)**2 /(2*3))\n",
    "temp = (1/(np.sqrt(3)*np.sqrt(2*np.pi))) * np.exp(-(x-2)**2 /(2*3))\n",
    "y2 = temp/p_x\n",
    "plt.plot(x,y2,'r')\n",
    "plt.title(\"p(w2|x)\")"
   ]
  },
  {
   "cell_type": "code",
   "execution_count": 44,
   "metadata": {},
   "outputs": [
    {
     "data": {
      "text/plain": [
       "[<matplotlib.lines.Line2D at 0x1ea5d980ba8>]"
      ]
     },
     "execution_count": 44,
     "metadata": {},
     "output_type": "execute_result"
    },
    {
     "data": {
      "image/png": "[encoded data removed]",
      "text/plain": [
       "<matplotlib.figure.Figure at 0x1ea5d980c88>"
      ]
     },
     "metadata": {},
     "output_type": "display_data"
    }
   ],
   "source": [
    "plt.plot(x,y1,'c')\n",
    "plt.plot(x,y2,'r')"
   ]
  },
  {
   "cell_type": "markdown",
   "metadata": {},
   "source": [
    "*NOTE: Equating posteriors will simplify to the equation below since $p({{w}_{1}}) = p({{w}_{2}})$ and $p(x)$ will cancel out*"
   ]
  },
  {
   "cell_type": "markdown",
   "metadata": {},
   "source": [
    "$\n",
    "\\begin{align}\n",
    "  & p(x|{{w}_{1}})=p(x|{{w}_{2}}) \\\\ \n",
    " &  \\\\ \n",
    " & \\Rightarrow \\frac{1}{\\sqrt{6\\pi }}{{e}^{-\\frac{{{(x+2)}^{2}}}{6}}}=\\frac{1}{\\sqrt{6\\pi }}{{e}^{-\\frac{{{(x-2)}^{2}}}{6}}} \\\\ \n",
    " &  \\\\ \n",
    " & \\Rightarrow -\\frac{{{(x+2)}^{2}}}{6}=-\\frac{{{(x-2)}^{2}}}{6} \\\\ \n",
    " &  \\\\ \n",
    " & \\Rightarrow {{x}^{2}}+2x+4={{x}^{2}}-2x+4 \\\\ \n",
    " &  \\\\ \n",
    " & \\Rightarrow x=0 \\\\ \n",
    "\\end{align}\n",
    "$"
   ]
  },
  {
   "cell_type": "markdown",
   "metadata": {},
   "source": [
    "So, at $x = 0$, we have a tie. "
   ]
  },
  {
   "cell_type": "markdown",
   "metadata": {},
   "source": [
    "$$p(error)\\,or\\,p(error,\\,x)=\\int{p(error|x)}p(x)dx$$"
   ]
  },
  {
   "cell_type": "markdown",
   "metadata": {},
   "source": [
    "When we select **w1** the error is $\\int{p({{w}_{2}}|x)p(x)dx}$ and when we select **w2** the error is $\\int{p({{w}_{1}}|x)p(x)dx}$"
   ]
  },
  {
   "cell_type": "markdown",
   "metadata": {},
   "source": [
    "$$\n",
    "\\begin{align}\n",
    "  & \\int{p({{w}_{1}}|x)p(x)dx}\\,+\\,\\int{p({{w}_{2}}|x)p(x)dx} \\\\ \n",
    " & =\\int{p(x|{{w}_{1}})p({{w}_{1}})dx}\\,+\\,\\int{p(x|{{w}_{2}})p({{w}_{2}})dx} \\\\ \n",
    "\\end{align}\n",
    "$$"
   ]
  },
  {
   "cell_type": "markdown",
   "metadata": {},
   "source": [
    "For our case, $$\\begin{align}\n",
    "  & \\int\\limits_{0}^{\\infty }{0.5\\frac{{{e}^{-\\frac{{{(x+2)}^{2}}}{6}}}}{\\sqrt{6\\pi }}dx}+\\int\\limits_{-\\infty }^{0}{0.5\\frac{{{e}^{-\\frac{{{(x+2)}^{2}}}{6}}}}{\\sqrt{6\\pi }}dx} \\\\ \n",
    " & =0.06205326974748089+0.06205326974748089 \\\\ \n",
    " & =0.1241065394949618 \\\\ \n",
    "\\end{align}\n",
    "$$"
   ]
  },
  {
   "cell_type": "markdown",
   "metadata": {},
   "source": [
    "So, our test error is **12.4%**"
   ]
  },
  {
   "cell_type": "markdown",
   "metadata": {},
   "source": [
    "The above error is the lowest test error possible. This is because bayes considers probability. The prior multiplied by likelihood is proportional to the posterior. This error is actually an irreducable error as in the above diagram we can see that whatever we do we cannot reduce the error irrespective of whatever x we pick."
   ]
  },
  {
   "cell_type": "markdown",
   "metadata": {},
   "source": [
    "## Q3: Assume a two-class problem with equal a priori class probabilities of p(w1) and p(w2) and Gaussian class-conditional densities as follows, where a × b − c × c = 1"
   ]
  },
  {
   "cell_type": "markdown",
   "metadata": {},
   "source": [
    "$$\n",
    "p(x|{{w}_{1}})=N\\left( \\left[ \\begin{matrix}\n",
    "   0  \\\\\n",
    "   0  \\\\\n",
    "\\end{matrix} \\right],\\left[ \\begin{matrix}\n",
    "   a & c  \\\\\n",
    "   c & b  \\\\\n",
    "\\end{matrix} \\right] \\right)\\,\\,\\,\\,\\,\\,\\,\\,\\,\\,\\,\\,\\,\\,\\,p(x|{{w}_{2}})=N\\left( \\left[ \\begin{matrix}\n",
    "   d  \\\\\n",
    "   e  \\\\\n",
    "\\end{matrix} \\right],\\left[ \\begin{matrix}\n",
    "   1 & 0  \\\\\n",
    "   0 & 1  \\\\\n",
    "\\end{matrix} \\right] \\right)\\,\\,\\,\n",
    "$$"
   ]
  },
  {
   "cell_type": "markdown",
   "metadata": {},
   "source": [
    "### a. [5 points] Find the equation of the decision boundary between these two classes in terms of the given parameters."
   ]
  },
  {
   "cell_type": "markdown",
   "metadata": {},
   "source": [
    "Our discriminants,\n",
    "$$\n",
    "\\begin{align}\n",
    "  & {{g}_{1}}(x)=-\\frac{1}{2}{{\\left[ \\begin{matrix}\n",
    "   {{x}_{1}}  \\\\\n",
    "   {{x}_{2}}  \\\\\n",
    "\\end{matrix} \\right]}^{T}}\\,\\left[ \\begin{matrix}\n",
    "   b & -c  \\\\\n",
    "   -c & a  \\\\\n",
    "\\end{matrix} \\right]\\,\\,\\left[ \\begin{matrix}\n",
    "   {{x}_{1}}  \\\\\n",
    "   {{x}_{2}}  \\\\\n",
    "\\end{matrix} \\right]-\\ln (2\\pi )+ln(.5) \\\\ \n",
    " & {{g}_{2}}(x)=-\\frac{1}{2}{{\\left[ \\begin{matrix}\n",
    "   {{x}_{1}-d}  \\\\\n",
    "   {{x}_{2}-e}  \\\\\n",
    "\\end{matrix} \\right]}^{T}}\\,\\left[ \\begin{matrix}\n",
    "   1 & 0  \\\\\n",
    "   0 & 1  \\\\\n",
    "\\end{matrix} \\right]\\,\\,\\left[ \\begin{matrix}\n",
    "   {{x}_{1}-d}  \\\\\n",
    "   {{x}_{2}-e}  \\\\\n",
    "\\end{matrix} \\right]-\\ln (2\\pi )+ln(.5) \\\\ \n",
    "\\end{align}\n",
    "$$\n",
    "\n",
    "So, our decision boundary us ${{g}_{1}}(x)={{g}_{2}}(x)$"
   ]
  },
  {
   "cell_type": "markdown",
   "metadata": {},
   "source": [
    "### b. [5 points] Using result in (a), determine the constraints on the values of a, b, c, d and e, such that the resulting discriminant function results with a linear decision boundary."
   ]
  },
  {
   "cell_type": "markdown",
   "metadata": {},
   "source": [
    "Equating, we get\n",
    "$$\n",
    "\\begin{align}\n",
    "  & {{x}_{1}}^{2}b-2{{x}_{1}}{{x}_{2}}c+{{x}_{2}}^{2}a={{({{x}_{1}}-d)}^{2}}+{{({{x}_{2}}-e)}^{2}} \\\\ \n",
    " & \\Rightarrow {{x}_{1}}^{2}b-{{x}_{1}}^{2}+{{x}_{2}}^{2}a-{{x}_{2}}^{2}-2{{x}_{1}}{{x}_{2}}c=-2{{x}_{1}}d+{{d}^{2}}-2{{x}_{2}}e+{{e}^{2}} \\\\ \n",
    " & \\Rightarrow {{x}_{1}}^{2}(b-1)+{{x}_{2}}^{2}(a-1)-2{{x}_{1}}{{x}_{2}}c=-2{{x}_{1}}d+{{d}^{2}}-2{{x}_{2}}e+{{e}^{2}} \\\\ \n",
    "\\end{align}\n",
    "$$"
   ]
  },
  {
   "cell_type": "markdown",
   "metadata": {},
   "source": [
    "From the above we can see that if $a=1$ and $b=1$ and $c=0$ the above equation is linear and $d$ and $c$ can have any value. "
   ]
  },
  {
   "cell_type": "markdown",
   "metadata": {},
   "source": [
    "### [2 points] Plot the centers of these two class distributions on a 2D ( [x1, x2] ) plane, and let a = 1, b = 1, c = 0, d = 4, e = 4, now draw the decision boundary between the two classes (assume, equal class priori probabilities)"
   ]
  },
  {
   "cell_type": "markdown",
   "metadata": {},
   "source": [
    "The above equations for the given values becomes,\n",
    "$$\n",
    "\\begin{align}\n",
    "  & -2{{x}_{1}}d+{{d}^{2}}-2{{x}_{2}}e+{{e}^{2}}=0 \\\\ \n",
    " & \\Rightarrow -8{{x}_{1}}+16-8{{x}_{2}}+16=0 \\\\ \n",
    " & \\Rightarrow {{x}_{1}}+{{x}_{2}}=4 \\\\ \n",
    "\\end{align}\n",
    "$$"
   ]
  },
  {
   "cell_type": "code",
   "execution_count": 56,
   "metadata": {},
   "outputs": [
    {
     "data": {
      "image/png": "[encoded data removed]",
      "text/plain": [
       "<matplotlib.figure.Figure at 0x1ea5edc8978>"
      ]
     },
     "metadata": {},
     "output_type": "display_data"
    }
   ],
   "source": [
    "x = np.linspace(-10,10,1000)\n",
    "y = 4 - x\n",
    "plt.rc('grid', linestyle=\"-\", color='black')\n",
    "plt.plot(x,y,'g')\n",
    "plt.grid(True)"
   ]
  },
  {
   "cell_type": "markdown",
   "metadata": {
    "collapsed": true
   },
   "source": [
    "Our Decision Boundary."
   ]
  },
  {
   "cell_type": "markdown",
   "metadata": {},
   "source": [
    "## Q4: [12 points] Assume that n random non-negative real valued samples of x1, x2, · · ·, xn have been drawn independently from Erlang Distribution with the following probability density function which has only one parameter of 𝜃 (see  https://en.wikipedia.org/wiki/Erlang_distribution for more information). Here 𝜃 is a non- negative scalar value, and u(x) is the unit step function defined as follows:"
   ]
  },
  {
   "cell_type": "markdown",
   "metadata": {},
   "source": [
    "$$\n",
    "p(x|\\theta )={{\\theta }^{2}}x{{e}^{\\left( -\\theta x \\right)}}u(x)\\,\\,\\,\\,where\\,\\,\\,\\,u(x)=\\left\\{ \\begin{matrix}\n",
    "   1\\,\\,\\,\\,\\,if\\,x\\,>\\,0  \\\\\n",
    "   0\\,\\,\\,\\,if\\,x<\\,0  \\\\\n",
    "\\end{matrix} \\right.\n",
    "$$"
   ]
  },
  {
   "cell_type": "markdown",
   "metadata": {},
   "source": [
    "Now, our random samples are all non-negative real. So, our function $u(x)$ becomes $u(x)=1$ since all samples are greater than 0."
   ]
  },
  {
   "cell_type": "markdown",
   "metadata": {},
   "source": [
    "So, our likelihood becomes $p(x|\\theta )=\\prod\\limits_{1}^{n}{{{\\theta }^{2}}x{{e}^{\\left( -\\theta x \\right)}}}$"
   ]
  },
  {
   "cell_type": "markdown",
   "metadata": {},
   "source": [
    "Log of our likelihood is $ln(p(x|\\theta ))=\\sum\\limits_{1}^{n}{\\ln ({{\\theta }^{2}}x)+\\sum\\limits_{1}^{n}{\\ln \\left( {{e}^{\\left( -\\theta x \\right)}} \\right)}}$"
   ]
  },
  {
   "cell_type": "markdown",
   "metadata": {},
   "source": [
    "Derivative wrt $\\theta$"
   ]
  },
  {
   "cell_type": "markdown",
   "metadata": {},
   "source": [
    "$$\n",
    "\\begin{align}\n",
    "  & \\frac{d\\sum\\limits_{1}^{n}{\\ln ({{\\theta }^{2}}x)+\\sum\\limits_{1}^{n}{\\ln \\left( {{e}^{\\left( -\\theta x \\right)}} \\right)}}}{d\\theta } \\\\ \n",
    " & =\\sum\\limits_{1}^{n}{\\frac{2}{\\theta }}-\\sum\\limits_{1}^{n}{x} \\\\ \n",
    "\\end{align}\n",
    "$$"
   ]
  },
  {
   "cell_type": "markdown",
   "metadata": {},
   "source": [
    "Setting derivative equal to $0$ we get,\n",
    "$$\n",
    "\\begin{align}\n",
    "  & \\sum\\limits_{1}^{n}{\\frac{2}{\\theta }}-\\sum\\limits_{1}^{n}{x}=0 \\\\ \n",
    " & \\Rightarrow \\frac{2n}{\\theta }=\\sum\\limits_{1}^{n}{x} \\\\ \n",
    " & \\Rightarrow \\theta =\\frac{2n}{\\sum\\limits_{1}^{n}{x}} \\\\ \n",
    "\\end{align}\n",
    "$$"
   ]
  },
  {
   "cell_type": "markdown",
   "metadata": {
    "collapsed": true
   },
   "source": [
    "## Q5: Assume there is a three-class classification problem (w1, w2, w3) and 10 training samples of each class with three features of [x1, x2, x3] have been provided in this table, and assume P(ωi) = 1/3. Note: a Microsoft® Excel copy of this table has been provided as an attachment for this assignment. "
   ]
  },
  {
   "cell_type": "markdown",
   "metadata": {},
   "source": [
    "### a. [6 points] Based on these training points calculate Mean vector (μ) and Covariance matrix (Σ) for each of these three classes (w1, w2, w3). "
   ]
  },
  {
   "cell_type": "code",
   "execution_count": 46,
   "metadata": {
    "collapsed": true
   },
   "outputs": [],
   "source": [
    "w1_x1 = [-5.01,-5.43,1.08,0.86,-2.67,4.94,-2.51,-2.25,5.56,1.03]\n",
    "w1_x2 = [-8.12,-3.48,-5.52,-3.78,0.63,3.29,2.09,-2.13,2.86,-3.33] \n",
    "w1_x3 = [-3.68,-3.54,1.66,-4.11,7.39,2.08,-2.59,-6.94,-2.26,4.33]\n",
    "w1_temp = [w1_x1,w1_x2,w1_x3]\n",
    "w1 = np.array([w1_x1,w1_x2,w1_x3])\n",
    "\n",
    "w2_x1 = [-0.91,1.3,-7.75,-5.47,6.14,3.6,5.37,7.18,-7.39,-7.5]\n",
    "w2_x2 = [-0.18,-2.06,-4.54,0.5,5.72,1.26,-4.63,1.46,1.17,-6.32]\n",
    "w2_x3 = [-0.05,-3.53,-0.95,3.92,-4.85,4.36,-3.65,-6.66,6.3,-0.31]\n",
    "w2_temp = [w2_x1,w2_x2,w2_x3]\n",
    "w2 = np.array([w2_x1,w2_x2,w2_x3])\n",
    "\n",
    "w3_x1 = [5.35,5.12,-1.34,4.48,7.11,7.17,5.75,0.77,0.9,3.52]\n",
    "w3_x2 = [2.26,3.22,-5.31,3.42,2.39,4.33,3.97,0.27,-0.43,-0.36]\n",
    "w3_x3 = [8.13,-2.66,-9.87,5.19,9.21,-0.98,6.65,2.41,-8.71,6.43]\n",
    "w3_temp = [w3_x1,w3_x2,w3_x3]\n",
    "w3 = np.array([w3_x1,w3_x2,w3_x3])\n",
    "\n",
    "\n",
    "def mean(x):\n",
    "    return round(float(sum(x)/len(x)),3)\n",
    "    \n",
    "\n",
    "        "
   ]
  },
  {
   "cell_type": "code",
   "execution_count": 47,
   "metadata": {},
   "outputs": [
    {
     "name": "stdout",
     "output_type": "stream",
     "text": [
      "[-0.44, -1.749, -0.766]\n",
      "[[12.942, 6.926, 3.71], [6.926, 13.161, 3.516], [3.71, 3.516, 17.752]]\n",
      "+--------------------------------------------------------------------------------------------------------------------+\n",
      "[-0.543, -0.762, -0.542]\n",
      "[[33.146, 8.983, -14.73], [8.983, 11.852, 0.368], [-14.73, 0.368, 16.579]]\n",
      "+--------------------------------------------------------------------------------------------------------------------+\n",
      "[3.883, 1.376, 1.58]\n",
      "[[7.474, 6.7, 11.835], [6.7, 7.704, 10.448], [11.835, 10.448, 42.559]]\n",
      "+--------------------------------------------------------------------------------------------------------------------+\n"
     ]
    }
   ],
   "source": [
    "#Calculating mean for class w1\n",
    "mean_w1 = []\n",
    "for x in w1_temp:\n",
    "    mean_w1.append(mean(x))\n",
    "    \n",
    "#Calculating mean for class w1\n",
    "mean_w2 = []\n",
    "for x in w2_temp:\n",
    "    mean_w2.append(mean(x))\n",
    "    \n",
    "#Calculating mean for class w1\n",
    "mean_w3 = []\n",
    "for x in w3_temp:\n",
    "    mean_w3.append(mean(x))\n",
    "    \n",
    "    \n",
    "#Calculating covariance for w1\n",
    "\n",
    "temp = w1 - np.resize(np.array(mean_w1),(3,1))\n",
    "cov_w1=[]\n",
    "for x in range(3):\n",
    "    calc = []\n",
    "    for y in range(3):\n",
    "        #NOTE ITS DIVIDED BY (N) NOT (N - 1)\n",
    "        calc.append(round(float(sum(temp[x]*temp[y]) / len(temp[x])),3))\n",
    "    cov_w1.append(calc)\n",
    "\n",
    "\n",
    "\n",
    "#Calculating covariance for w2\n",
    "\n",
    "temp = w2 - np.resize(np.array(mean_w2),(3,1))\n",
    "cov_w2 = []\n",
    "for x in range(3):\n",
    "    calc = []\n",
    "    for y in range(3):\n",
    "        #NOTE ITS DIVIDED BY (N) NOT (N - 1)\n",
    "        calc.append(round(float(sum(temp[x]*temp[y]) / len(temp[x])),3))\n",
    "    cov_w2.append(calc)\n",
    "\n",
    "\n",
    "\n",
    "#Calculating covariance for w3\n",
    "\n",
    "temp = w3 - np.resize(np.array(mean_w3),(3,1))\n",
    "cov_w3 = []\n",
    "for x in range(3):\n",
    "    calc = []\n",
    "    for y in range(3):\n",
    "        #NOTE ITS DIVIDED BY (N) NOT (N - 1)\n",
    "        calc.append(round(float(sum(temp[x]*temp[y]) / len(temp[x])),3))\n",
    "    cov_w3.append(calc)\n",
    "\n",
    "\n",
    "\n",
    "print(mean_w1)\n",
    "print(cov_w1)\n",
    "print(\"+--------------------------------------------------------------------------------------------------------------------+\")\n",
    "print(mean_w2)\n",
    "print(cov_w2)\n",
    "print(\"+--------------------------------------------------------------------------------------------------------------------+\")\n",
    "print(mean_w3)\n",
    "print(cov_w3)\n",
    "print(\"+--------------------------------------------------------------------------------------------------------------------+\")\n",
    "\n"
   ]
  },
  {
   "cell_type": "markdown",
   "metadata": {},
   "source": [
    "$$\n",
    "{{\\mu }_{w1}}=\\left[ \\begin{matrix}\n",
    "   -0.44  \\\\\n",
    "   -1.749  \\\\\n",
    "   -0.766  \\\\\n",
    "\\end{matrix} \\right]\\,\\,\\,\\,\\,\\,\\,\\,{{\\Sigma }_{w1}}=\\left[ \\begin{matrix}\n",
    "   12.942 & 6.962 & 3.71  \\\\\n",
    "   6.926 & 13.161 & 3.516  \\\\\n",
    "   3.71 & 3.516 & 17.752  \\\\\n",
    "\\end{matrix} \\right]\n",
    "$$ \n",
    " \n",
    " \n",
    " \n",
    " \n",
    "$$\n",
    "{{\\mu }_{w2}}=\\left[ \\begin{matrix}\n",
    "   -0.543  \\\\\n",
    "   -0.762  \\\\\n",
    "   -0.542  \\\\\n",
    "\\end{matrix} \\right]\\,\\,\\,\\,\\,\\,\\,\\,{{\\Sigma }_{w2}}=\\left[ \\begin{matrix}\n",
    "   33.146 & 8.983 & -14.73  \\\\\n",
    "   8.983 & 11.852 & 0.368  \\\\\n",
    "   -14.73 & 0.368 & 16.579  \\\\\n",
    "\\end{matrix} \\right]\n",
    "$$ \n",
    "\n",
    "$$\n",
    "{{\\mu }_{w2}}=\\left[ \\begin{matrix}\n",
    "   3.883  \\\\\n",
    "   1.376  \\\\\n",
    "   1.58  \\\\\n",
    "\\end{matrix} \\right]\\,\\,\\,\\,\\,\\,\\,\\,{{\\Sigma }_{w2}}=\\left[ \\begin{matrix}\n",
    "   7.474 & 6.7 & 11.835  \\\\\n",
    "   6.7 & 7.704 & 10.448  \\\\\n",
    "   11.835 & 10.448 & 42.559  \\\\\n",
    "\\end{matrix} \\right]\n",
    "$$"
   ]
  },
  {
   "cell_type": "markdown",
   "metadata": {
    "collapsed": true
   },
   "source": [
    "### b. [1 point] Having μ, and Σ for each class, write Gaussian distributions N(μ, Σ) for each class (Wi ) using matrix notations as follows: "
   ]
  },
  {
   "cell_type": "markdown",
   "metadata": {},
   "source": [
    "$$\n",
    "p(X|{{w}_{1}})=\\frac{1}{{{(2\\pi )}^{3/2}}{{\\left| \\begin{matrix}\n",
    "   12.942 & 6.962 & 3.71  \\\\\n",
    "   6.926 & 13.161 & 3.516  \\\\\n",
    "   3.71 & 3.516 & 17.752  \\\\\n",
    "\\end{matrix} \\right|}^{1/2}}}\\exp \\left[ \\frac{1}{2}{{\\left( \\left[ \\begin{matrix}\n",
    "   {{x}_{1}}  \\\\\n",
    "   {{x}_{2}}  \\\\\n",
    "   {{x}_{3}}  \\\\\n",
    "\\end{matrix} \\right]\\,\\,-\\,\\,\\left[ \\begin{matrix}\n",
    "   -0.44  \\\\\n",
    "   -1.749  \\\\\n",
    "   -0.766  \\\\\n",
    "\\end{matrix} \\right] \\right)}^{t}}{{\\left[ \\begin{matrix}\n",
    "   12.942 & 6.962 & 3.71  \\\\\n",
    "   6.926 & 13.161 & 3.516  \\\\\n",
    "   3.71 & 3.516 & 17.752  \\\\\n",
    "\\end{matrix} \\right]}^{^{-1}}}\\left( \\left[ \\begin{matrix}\n",
    "   {{x}_{1}}  \\\\\n",
    "   {{x}_{2}}  \\\\\n",
    "   {{x}_{3}}  \\\\\n",
    "\\end{matrix} \\right]\\,\\,-\\,\\,\\left[ \\begin{matrix}\n",
    "   -0.44  \\\\\n",
    "   -1.749  \\\\\n",
    "   -0.766  \\\\\n",
    "\\end{matrix} \\right] \\right) \\right]\n",
    "$$\n",
    "\n",
    "Similar for $p(X|{{w}_{2}})$ and $p(X|{{w}_{1}})$"
   ]
  },
  {
   "cell_type": "markdown",
   "metadata": {},
   "source": [
    "### c. [3 points] Write a procedure to generate random samples (generate at least 5 samples per each class) according to a normal distribution N(μ, Σ) of each of these classes in 3D dimensions [x1, x2, x3]. These new samples can be used as our testing samples in the next step."
   ]
  },
  {
   "cell_type": "code",
   "execution_count": 48,
   "metadata": {
    "collapsed": true
   },
   "outputs": [],
   "source": [
    "def gen_rand_vector_gauss(mean_vec, cov_mat):\n",
    "    x1,x2,x3 = np.random.multivariate_normal(mean_vec, cov_mat)\n",
    "    return [x1,x2,x3]\n",
    "\n",
    "w1_rand = []\n",
    "w2_rand = []\n",
    "w3_rand = []\n",
    "lst_w = [w1_rand,w2_rand,w3_rand]\n",
    "lst_w_mean = [mean_w1,mean_w2,mean_w3]\n",
    "lst_w_cov = [cov_w1,cov_w2,cov_w3]\n",
    "\n",
    "for i in range(3):\n",
    "    for j in range(5):\n",
    "        lst_w[i].append(gen_rand_vector_gauss(lst_w_mean[i], lst_w_cov[i]))"
   ]
  },
  {
   "cell_type": "code",
   "execution_count": 49,
   "metadata": {},
   "outputs": [
    {
     "data": {
      "text/plain": [
       "[[-4.6008652025719492, -3.4239148075139463, -1.325430211915634],\n",
       " [-3.4071714748569031, -1.027899124096088, 6.553344381622157],\n",
       " [-3.812068960165254, -3.5699595360916345, -3.1686052114911156],\n",
       " [-1.5997459405748391, -1.4612883762956983, 0.18757035254980914],\n",
       " [1.2068774822165715, -5.8306263791428155, 2.0932282857319264]]"
      ]
     },
     "execution_count": 49,
     "metadata": {},
     "output_type": "execute_result"
    }
   ],
   "source": [
    "w1_rand"
   ]
  },
  {
   "cell_type": "code",
   "execution_count": 50,
   "metadata": {},
   "outputs": [
    {
     "data": {
      "text/plain": [
       "[[-7.8026869187522925, 0.60914742034314751, 3.0921364372406526],\n",
       " [1.1813501278448597, 2.7500752025415069, -3.8663367866457019],\n",
       " [8.2134945161375388, 0.69867487018211549, -5.4619037770251984],\n",
       " [2.138748632782161, -2.7864162071294398, -0.77763387577086651],\n",
       " [-1.8202169528342345, -0.66234839347082508, -6.1115673751092787]]"
      ]
     },
     "execution_count": 50,
     "metadata": {},
     "output_type": "execute_result"
    }
   ],
   "source": [
    "w2_rand"
   ]
  },
  {
   "cell_type": "code",
   "execution_count": 51,
   "metadata": {},
   "outputs": [
    {
     "data": {
      "text/plain": [
       "[[1.815093448524383, -1.9268243905467513, -1.8705655836527488],\n",
       " [0.95346375729152388, -1.4059463427111383, -4.0812222163315566],\n",
       " [4.3025304315172441, 2.209150357474249, 5.7584466238075196],\n",
       " [-1.3222125522688302, -3.6547647348465628, -7.9126747413235297],\n",
       " [7.0828553954348532, 4.1268851738695762, 8.0508513527055943]]"
      ]
     },
     "execution_count": 51,
     "metadata": {},
     "output_type": "execute_result"
    }
   ],
   "source": [
    "w3_rand"
   ]
  },
  {
   "cell_type": "markdown",
   "metadata": {},
   "source": [
    "### d. [3+3+1+1=8 points] Write three procedures to calculate the discriminant function g(x) (of the form given in the equation below) for each class wi. Use these discriminant functions for classifying those test points that you have randomly generated for each class in (c). Calculate your mis-classification rate for classifying these generated test points. Write your conclusions."
   ]
  },
  {
   "cell_type": "code",
   "execution_count": 52,
   "metadata": {},
   "outputs": [
    {
     "name": "stdout",
     "output_type": "stream",
     "text": [
      "['w1', 'w1', 'w1', 'w1', 'w1', 'w2', 'w2', 'w2', 'w2', 'w2', 'w3', 'w3', 'w3', 'w3', 'w3']\n",
      "['w1', 'w2', 'w1', 'w1', 'w1', 'w2', 'w1', 'w2', 'w1', 'w1', 'w3', 'w3', 'w3', 'w3', 'w3']\n",
      "[0.7333333333333333, 11, 4]\n"
     ]
    }
   ],
   "source": [
    "m_w1 = np.array(mean_w1)\n",
    "m_w2 = np.array(mean_w2)\n",
    "m_w3 = np.array(mean_w3)\n",
    "\n",
    "c_w1 = np.array(cov_w1)\n",
    "c_w2 = np.array(cov_w2)\n",
    "c_w3 = np.array(cov_w3)\n",
    "\n",
    "#@params\n",
    "#vec - raandom vector as numpy array\n",
    "#mean - mean vector as numpy array\n",
    "#cov_mat - covariance matrix as numpy array\n",
    "def discriminant_func(vec, mean, cov_mat, prior):\n",
    "    cov_mat_inv = np.linalg.inv(cov_mat)\n",
    "    temp = -0.5 * np.dot(np.dot((vec-mean).T,cov_mat_inv),(vec-mean))\n",
    "    temp = temp - (1.5 * np.log(2*np.pi)) - (.5*np.log(np.linalg.det(cov_mat))) + np.log(prior)\n",
    "    return temp\n",
    "\n",
    "def dcr_w1(vec):\n",
    "    return discriminant_func(vec, m_w1, c_w1, 1/3)\n",
    "\n",
    "def dcr_w2(vec):\n",
    "    return discriminant_func(vec, m_w2, c_w2, 1/3)\n",
    "\n",
    "def dcr_w3(vec):\n",
    "    return discriminant_func(vec, m_w3, c_w3, 1/3)\n",
    "\n",
    "\n",
    "#Predict class\n",
    "def prediction(vec):\n",
    "    p_w1 = dcr_w1(vec)\n",
    "    p_w2 = dcr_w2(vec)\n",
    "    p_w3 = dcr_w3(vec)\n",
    "    \n",
    "    pred = []\n",
    "    if p_w1 > p_w2 and p_w1> p_w3:\n",
    "        pred.append(\"w1\")\n",
    "    if p_w2 > p_w1 and p_w2> p_w3:\n",
    "        pred.append(\"w2\")\n",
    "    if p_w3 > p_w1 and p_w3> p_w2:\n",
    "        pred.append(\"w3\")\n",
    "    \n",
    "    #Tie breaker\n",
    "    \n",
    "    if(len(pred) == 0):\n",
    "        # If all equal the predict w1\n",
    "        if p_w1 == p_w2 and p_w2 == p_w3:\n",
    "            pred.append(\"w1\")\n",
    "        else:\n",
    "            if p_w1 == p_w2:\n",
    "                pred.append(\"w1\")\n",
    "            if p_w2 == p_w3:\n",
    "                pred.append(\"w2\")\n",
    "            if p_w3 == p_w1:\n",
    "                pred.append(\"w1\")\n",
    "                \n",
    "    return pred[0]\n",
    "\n",
    "rand = [w1_rand, w2_rand, w3_rand]\n",
    "\n",
    "true_class = []\n",
    "temp = [\"w1\",\"w2\",\"w3\"]\n",
    "\n",
    "for x in temp:\n",
    "    for y in range(5):\n",
    "        true_class.append(x)\n",
    "        \n",
    "predicted_class =[]       \n",
    "for x in rand:\n",
    "    for y in x:\n",
    "        predicted_class.append(prediction(np.array(y)))\n",
    "        \n",
    "print(true_class)\n",
    "print(predicted_class)\n",
    "    \n",
    "def accuracy(true_class, predicted_class):\n",
    "    positive = 0\n",
    "    negative = 0\n",
    "    for x in range(len(true_class)):\n",
    "        if true_class[x] == predicted_class[x]:\n",
    "             positive = positive + 1\n",
    "        else:\n",
    "             negative = negative + 1\n",
    "             \n",
    "    return [positive/len(true_class), positive, negative]\n",
    "\n",
    "print(accuracy(true_class, predicted_class))\n",
    "    "
   ]
  },
  {
   "cell_type": "markdown",
   "metadata": {},
   "source": [
    "Our accuracy is **73%** i.e. our miss classification is **27%**"
   ]
  },
  {
   "cell_type": "markdown",
   "metadata": {},
   "source": [
    "### e. [3+3=6 points] Write a procedure to calculate the Mahalanobis distance between the mean μ and an arbitrary point x, given the covariance matrix Σ and mean μ of each class (see equation below). Using this procedure, calculate the Mahalanobis distance between each of the following test points and each of the class means μ: (1, 2, 1)t, (5, 3, 2)t, (0, 0, 0)t, (1, 0, 0)t "
   ]
  },
  {
   "cell_type": "code",
   "execution_count": 53,
   "metadata": {
    "collapsed": true
   },
   "outputs": [],
   "source": [
    "def mahalanobis_distance(vec, mean, cov_mat):\n",
    "    cov_mat_inv = np.linalg.inv(cov_mat)\n",
    "    return np.dot(np.dot((vec-mean).T,cov_mat_inv),(vec-mean))"
   ]
  },
  {
   "cell_type": "code",
   "execution_count": 54,
   "metadata": {},
   "outputs": [
    {
     "name": "stdout",
     "output_type": "stream",
     "text": [
      "+----------------------------------Distance r^2 for W1----------------------------------+\n",
      "[1.1446236783964361, 2.6941129047617487, 0.26673650709612445, 0.2637755081134327]\n",
      "\n",
      "\n",
      "+----------------------------------Distance r^2 for W1----------------------------------+\n",
      "[0.81805350100592999, 3.4249590061086144, 0.08006253792002363, 0.22684236991599305]\n",
      "\n",
      "\n",
      "+----------------------------------Distance r^2 for W1----------------------------------+\n",
      "[7.9483478987084002, 0.46516488905395859, 5.5822315869248396, 2.3759312610347036]\n"
     ]
    }
   ],
   "source": [
    "points = [[1,2,1],[5,3,2],[0,0,0],[1,0,0]]\n",
    "\n",
    "#Calculating distance for w1\n",
    "dist_w1 = []\n",
    "for x in points:\n",
    "    dist_w1.append(mahalanobis_distance(np.array(x),m_w1,c_w1))\n",
    "    \n",
    "#Calculating distance for w2\n",
    "dist_w2 = []\n",
    "for x in points:\n",
    "    dist_w2.append(mahalanobis_distance(np.array(x),m_w2,c_w2))\n",
    "    \n",
    "#Calculating distance for w3\n",
    "dist_w3 = []\n",
    "for x in points:\n",
    "    dist_w3.append(mahalanobis_distance(np.array(x),m_w3,c_w3))\n",
    "    \n",
    "print(\"+----------------------------------Distance r^2 for W1----------------------------------+\")\n",
    "print(dist_w1)\n",
    "print(\"\\n\")\n",
    "print(\"+----------------------------------Distance r^2 for W1----------------------------------+\")\n",
    "print(dist_w2)\n",
    "print(\"\\n\")\n",
    "print(\"+----------------------------------Distance r^2 for W1----------------------------------+\")\n",
    "print(dist_w3)"
   ]
  },
  {
   "cell_type": "markdown",
   "metadata": {},
   "source": [
    "### f. [3 points] Classify those four test points in ( e) into these three classes (w1, w2,w3) using discriminant functions that you have created in (d). "
   ]
  },
  {
   "cell_type": "code",
   "execution_count": 34,
   "metadata": {},
   "outputs": [
    {
     "name": "stdout",
     "output_type": "stream",
     "text": [
      "[1, 2, 1] --> w2\n",
      "[5, 3, 2] --> w3\n",
      "[0, 0, 0] --> w1\n",
      "[1, 0, 0] --> w1\n"
     ]
    }
   ],
   "source": [
    "for x in points:\n",
    "    print(x,\"-->\",prediction(np.array(x)))"
   ]
  },
  {
   "cell_type": "markdown",
   "metadata": {},
   "source": [
    "### g. [3 points] Assume you have P(ω1) = 0.8, and P(ω2) = P(ω3) = 0.1, now classify these test points again (1, 2, 1)t, (5, 3, 2)t, (0, 0, 0)t, (1, 0, 0)t . What is your conclusion?"
   ]
  },
  {
   "cell_type": "code",
   "execution_count": 40,
   "metadata": {},
   "outputs": [
    {
     "name": "stdout",
     "output_type": "stream",
     "text": [
      "[1, 2, 1] --> w1\n",
      "[5, 3, 2] --> w1\n",
      "[0, 0, 0] --> w1\n",
      "[1, 0, 0] --> w1\n"
     ]
    }
   ],
   "source": [
    "def dcr_w1_mod(vec):\n",
    "    return discriminant_func(vec, m_w1, c_w1, .8)\n",
    "\n",
    "def dcr_w2_mod(vec):\n",
    "    return discriminant_func(vec, m_w2, c_w2, .1)\n",
    "\n",
    "def dcr_w3_mod(vec):\n",
    "    return discriminant_func(vec, m_w3, c_w3, .1)\n",
    "\n",
    "#Predict class\n",
    "def prediction(vec):\n",
    "    p_w1 = dcr_w1_mod(vec)\n",
    "    p_w2 = dcr_w2_mod(vec)\n",
    "    p_w3 = dcr_w3_mod(vec)\n",
    "    \n",
    "    pred = []\n",
    "    if p_w1 > p_w2 and p_w1> p_w3:\n",
    "        pred.append(\"w1\")\n",
    "    if p_w2 > p_w1 and p_w2> p_w3:\n",
    "        pred.append(\"w2\")\n",
    "    if p_w3 > p_w1 and p_w3> p_w2:\n",
    "        pred.append(\"w3\")\n",
    "    \n",
    "    #Tie breaker\n",
    "    \n",
    "    if(len(pred) == 0):\n",
    "        # If all equal the predict w1\n",
    "        if p_w1 == p_w2 and p_w2 == p_w3:\n",
    "            pred.append(\"w1\")\n",
    "        else:\n",
    "            if p_w1 == p_w2:\n",
    "                pred.append(\"w1\")\n",
    "            if p_w2 == p_w3:\n",
    "                pred.append(\"w2\")\n",
    "            if p_w3 == p_w1:\n",
    "                pred.append(\"w1\")\n",
    "                \n",
    "    return pred[0]\n",
    "\n",
    "for x in points:\n",
    "    print(x,\"-->\",prediction(np.array(x)))\n"
   ]
  },
  {
   "cell_type": "markdown",
   "metadata": {},
   "source": [
    "We predict all the points as **w1**. This is because, the prior of **w1** has increased."
   ]
  }
 ],
 "metadata": {
  "kernelspec": {
   "display_name": "Python 3",
   "language": "python",
   "name": "python3"
  },
  "language_info": {
   "codemirror_mode": {
    "name": "ipython",
    "version": 3
   },
   "file_extension": ".py",
   "mimetype": "text/x-python",
   "name": "python",
   "nbconvert_exporter": "python",
   "pygments_lexer": "ipython3",
   "version": "3.6.1"
  }
 },
 "nbformat": 4,
 "nbformat_minor": 2
}
