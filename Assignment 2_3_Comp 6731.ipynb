{
 "cells": [
  {
   "cell_type": "markdown",
   "metadata": {
    "collapsed": true
   },
   "source": [
    "## Q1.[12 points] MLE"
   ]
  },
  {
   "cell_type": "markdown",
   "metadata": {},
   "source": [
    "Suppose we wish to find the maximum likelihood estimate of the performance of a classifier. We are told that the classifier has a true error rate of θ. \n",
    "$$p(k|\\theta )=\\frac{N!}{k!(N-k)!}{{\\theta }^{k}}{{(1-\\theta )}^{N-k}}$$\n",
    "Where $k$ out of $N$ samples are misclassified"
   ]
  },
  {
   "cell_type": "markdown",
   "metadata": {},
   "source": [
    "### a). Find an MLE of parameter θ. [12 points]"
   ]
  },
  {
   "cell_type": "markdown",
   "metadata": {},
   "source": [
    "Our likelihood is,\n",
    "$$p(k|\\theta )=\\frac{N!}{k!(N-k)!}{{\\theta }^{k}}{{(1-\\theta )}^{N-k}}$$"
   ]
  },
  {
   "cell_type": "markdown",
   "metadata": {},
   "source": [
    "Taking log and setting the derivative of log likelihood to 0 we get,\n",
    "$$\\frac{d\\log \\left( \\frac{N!}{k!(N-k)!}{{\\theta }^{k}}{{(1-\\theta )}^{N-k}} \\right)}{d\\theta }=0$$"
   ]
  },
  {
   "cell_type": "markdown",
   "metadata": {},
   "source": [
    "LHS,\n",
    "$$\\begin{align}\n",
    "  & \\frac{d\\log \\left( \\frac{N!}{k!(N-k)!} \\right)+d\\log \\left( {{\\theta }^{k}} \\right)+d\\log \\left( {{(1-\\theta )}^{N-k}} \\right)}{d\\theta } \\\\ \n",
    " & =\\frac{d\\log \\left( \\frac{N!}{k!(N-k)!} \\right)}{d\\theta }+\\frac{k\\,d\\log \\left( \\theta  \\right)}{d\\theta }+\\frac{(N-k)d\\log \\left( 1-\\theta  \\right)}{d\\theta } \\\\ \n",
    " & =0+\\frac{k}{\\theta }-\\frac{N-k}{1-\\theta } \\\\ \n",
    "\\end{align}\n",
    "$$"
   ]
  },
  {
   "cell_type": "markdown",
   "metadata": {},
   "source": [
    "Setting LHS = 0 , we get\n",
    "$$\\begin{align}\n",
    "  & \\frac{k}{\\theta }-\\frac{N-k}{1-\\theta }=0 \\\\ \n",
    " & \\Rightarrow \\frac{k-k\\theta -N\\theta +k\\theta }{\\theta (1-\\theta )}=0 \\\\ \n",
    " & \\Rightarrow k-N\\theta =0 \\\\ \n",
    " & \\Rightarrow \\theta =\\frac{k}{N} \\\\ \n",
    "\\end{align}\n",
    "$$"
   ]
  },
  {
   "cell_type": "markdown",
   "metadata": {},
   "source": [
    "### b) What is your conclusion? [2 points]"
   ]
  },
  {
   "cell_type": "markdown",
   "metadata": {},
   "source": [
    "Value that maximizes log likelihood is nothing but ***classsification error***"
   ]
  },
  {
   "cell_type": "markdown",
   "metadata": {},
   "source": [
    "# Q2. PCA analysis and transformation"
   ]
  },
  {
   "cell_type": "markdown",
   "metadata": {},
   "source": [
    "Assume 2D Gaussian distribution, and a given class with the following mean\n",
    "vector (m) and covariance matrix (S):"
   ]
  },
  {
   "cell_type": "markdown",
   "metadata": {},
   "source": [
    "$$\\begin{align}\n",
    "  & m={{\\left[ \\begin{matrix}\n",
    "   10 & 0  \\\\\n",
    "\\end{matrix} \\right]}^{T}} \\\\ \n",
    " & S=\\left[ \\begin{matrix}\n",
    "   16 & -12  \\\\\n",
    "   -12 & 34  \\\\\n",
    "\\end{matrix} \\right] \\\\ \n",
    "\\end{align}\n",
    "$$"
   ]
  },
  {
   "cell_type": "markdown",
   "metadata": {},
   "source": [
    "### a. [4 points] Plot a cross section (contour) of this distributions with a unit standard deviation (plot all points on this 2D distribution which has standard deviation =1 from the mean. See example below: Each ellipsis here shows a specific standard deviation with respect to the mean)."
   ]
  },
  {
   "cell_type": "code",
   "execution_count": 76,
   "metadata": {},
   "outputs": [
    {
     "data": {
      "image/png": "[encoded data removed]",
      "text/plain": [
       "<matplotlib.figure.Figure at 0x24ac5055c18>"
      ]
     },
     "metadata": {},
     "output_type": "display_data"
    }
   ],
   "source": [
    "import matplotlib.pyplot as plt\n",
    "from matplotlib.patches import Ellipse\n",
    "import numpy as np\n",
    "import math\n",
    "\n",
    "cov = np.asarray([[16,-12],[-12,34]])\n",
    "mean = [ 10 ,  0]\n",
    "width = 4*2\n",
    "height = np.sqrt(34)*2\n",
    "#eigen value decomposition of covariance to get rotation matrix \n",
    "l, v = np.linalg.eig(cov)\n",
    "#finding the angle of inclination\n",
    "degree = math.degrees(math.acos(v[0,0]))\n",
    "\n",
    "c = [\"g\",\"r\",\"b\"]\n",
    "fig, ax = plt.subplots()\n",
    "for x in range(1,4):\n",
    "    w = width * x\n",
    "    h = height * x\n",
    "    ax.add_patch(Ellipse(xy=mean, width=w, height=h, angle=degree, fill = False, color = c[x-1]))\n",
    "\n",
    "ax.set_aspect('equal')\n",
    "ax.autoscale()\n",
    "plt.show()"
   ]
  },
  {
   "cell_type": "code",
   "execution_count": 59,
   "metadata": {},
   "outputs": [
    {
     "name": "stdout",
     "output_type": "stream",
     "text": [
      "[ 10.  40.]\n"
     ]
    }
   ],
   "source": [
    "print (l)"
   ]
  },
  {
   "cell_type": "markdown",
   "metadata": {},
   "source": [
    "## b. [8 points] Compute eigenvalues of covariance matrix (S), and denote them by λ1 and λ2."
   ]
  },
  {
   "cell_type": "markdown",
   "metadata": {},
   "source": [
    "$$\\begin{align}\n",
    "  & \\det \\left( \\begin{matrix}\n",
    "   16-\\lambda  & -12  \\\\\n",
    "   -12 & 34-\\lambda   \\\\\n",
    "\\end{matrix} \\right)=0 \\\\ \n",
    " & \\Rightarrow (16-\\lambda )(34-\\lambda )-144=0 \\\\ \n",
    " & \\Rightarrow 544-50\\lambda +{{\\lambda }^{2}}-144=0 \\\\ \n",
    " & \\Rightarrow 400-50\\lambda +{{\\lambda }^{2}}=0 \\\\ \n",
    " & \\Rightarrow (40-\\lambda )(10-\\lambda )=0 \\\\ \n",
    " & \\therefore \\lambda 1=10,\\lambda 2=40 \\\\ \n",
    "\\end{align}\n",
    "$$"
   ]
  },
  {
   "cell_type": "markdown",
   "metadata": {},
   "source": [
    "## c. [8 points] Compute eigenvectors of covariance matrix (S) and denote by Φ1 and Φ2"
   ]
  },
  {
   "cell_type": "markdown",
   "metadata": {},
   "source": [
    "For $\\lambda 1=10$"
   ]
  },
  {
   "cell_type": "markdown",
   "metadata": {},
   "source": [
    "$$\\begin{align}\n",
    "  & \\left[ \\begin{matrix}\n",
    "   16-\\lambda 1 & -12  \\\\\n",
    "   -12 & 34-\\lambda 1  \\\\\n",
    "\\end{matrix} \\right]\\left[ \\begin{matrix}\n",
    "   a  \\\\\n",
    "   b  \\\\\n",
    "\\end{matrix} \\right]=\\left[ \\begin{matrix}\n",
    "   0  \\\\\n",
    "   0  \\\\\n",
    "\\end{matrix} \\right] \\\\ \n",
    " & \\Rightarrow \\left[ \\begin{matrix}\n",
    "   6 & -12  \\\\\n",
    "   -12 & 24  \\\\\n",
    "\\end{matrix} \\right]\\left[ \\begin{matrix}\n",
    "   a  \\\\\n",
    "   b  \\\\\n",
    "\\end{matrix} \\right]=\\left[ \\begin{matrix}\n",
    "   0  \\\\\n",
    "   0  \\\\\n",
    "\\end{matrix} \\right] \\\\ \n",
    " &  \\\\ \n",
    " & 6a-12b=0 \\\\ \n",
    " & \\Rightarrow a=2b \\\\ \n",
    "\\end{align}\n",
    "$$"
   ]
  },
  {
   "cell_type": "markdown",
   "metadata": {},
   "source": [
    "Eigen Vectors for $\\lambda 1=10$ are $\\left[ \\begin{matrix}\n",
    "   2x  \\\\\n",
    "   x  \\\\\n",
    "\\end{matrix} \\right]\n",
    "$, where $x$ is any real number"
   ]
  },
  {
   "cell_type": "markdown",
   "metadata": {},
   "source": [
    "For $\\lambda 2=40$"
   ]
  },
  {
   "cell_type": "markdown",
   "metadata": {},
   "source": [
    "$$\\begin{align}\n",
    "  & \\left[ \\begin{matrix}\n",
    "   16-\\lambda 2 & -12  \\\\\n",
    "   -12 & 34-\\lambda 2  \\\\\n",
    "\\end{matrix} \\right]\\left[ \\begin{matrix}\n",
    "   a  \\\\\n",
    "   b  \\\\\n",
    "\\end{matrix} \\right]=\\left[ \\begin{matrix}\n",
    "   0  \\\\\n",
    "   0  \\\\\n",
    "\\end{matrix} \\right] \\\\ \n",
    " & \\Rightarrow \\left[ \\begin{matrix}\n",
    "   -24 & -12  \\\\\n",
    "   -12 & -6  \\\\\n",
    "\\end{matrix} \\right]\\left[ \\begin{matrix}\n",
    "   a  \\\\\n",
    "   b  \\\\\n",
    "\\end{matrix} \\right]=\\left[ \\begin{matrix}\n",
    "   0  \\\\\n",
    "   0  \\\\\n",
    "\\end{matrix} \\right] \\\\ \n",
    " &  \\\\ \n",
    " & -24a-12b=0 \\\\ \n",
    " & \\Rightarrow -2a=b \\\\ \n",
    "\\end{align}$$"
   ]
  },
  {
   "cell_type": "markdown",
   "metadata": {},
   "source": [
    "Eigen vectors for  $\\lambda 2=40$ are $\\left[ \\begin{matrix}\n",
    "   x  \\\\\n",
    "   -2x  \\\\\n",
    "\\end{matrix} \\right]$, where x is any real number\n"
   ]
  },
  {
   "cell_type": "markdown",
   "metadata": {
    "collapsed": true
   },
   "source": [
    "## d. [2 point] Draw vectors of Φ1 and Φ2 originating from the mean on the figure that you obtained in Part (a )."
   ]
  },
  {
   "cell_type": "code",
   "execution_count": 53,
   "metadata": {},
   "outputs": [
    {
     "data": {
      "image/png": "[encoded data removed]",
      "text/plain": [
       "<matplotlib.figure.Figure at 0x24ac50004a8>"
      ]
     },
     "metadata": {},
     "output_type": "display_data"
    }
   ],
   "source": [
    "c = [\"g\",\"r\",\"b\"]\n",
    "fig, ax = plt.subplots()\n",
    "for x in range(1,4):\n",
    "    w = width * x\n",
    "    h = height * x\n",
    "    ax.add_patch(Ellipse(xy=mean, width=w, height=h, angle=degree, fill = False, color = c[x-1]))\n",
    "\n",
    "ax.set_aspect('equal')\n",
    "ax.autoscale()\n",
    "\n",
    "ax.arrow(0, 0, v[0,0],v[0,1], head_width=0.5, head_length=0.1,color=\"g\")\n",
    "ax.arrow(0, 0, v[1,0],v[1,1], head_width=0.5, head_length=0.1,color=\"r\")\n",
    "# Get current size\n",
    "fig_size = plt.rcParams[\"figure.figsize\"]\n",
    " \n",
    "# Prints: [8.0, 6.0]\n",
    "#print \"Current size:\", fig_size\n",
    " \n",
    "# Set figure width to 12 and height to 9\n",
    "#fig_size[0] = 48\n",
    "#fig_size[1] = 27\n",
    "fig_size[0] = 8\n",
    "fig_size[1] = 6\n",
    "plt.rcParams[\"figure.figsize\"] = fig_size\n",
    "plt.show()"
   ]
  },
  {
   "cell_type": "markdown",
   "metadata": {},
   "source": [
    "Vector (-0.89442719,-0.4472136) is the unit vector in red and is associated with eigen value 10."
   ]
  },
  {
   "cell_type": "markdown",
   "metadata": {},
   "source": [
    "Vector (0.4472136,-0.89442719) is the unit vector in green and is associated with eigen value 40."
   ]
  },
  {
   "cell_type": "markdown",
   "metadata": {},
   "source": [
    "## e. [2 point] Create matrix Φ where the columns of Φ are the eigenvectors of S that you found in part (c)"
   ]
  },
  {
   "cell_type": "markdown",
   "metadata": {},
   "source": [
    "$$\\left[ \\begin{matrix}\n",
    "   -0.89442719~ & 0.4472136  \\\\\n",
    "   -0.4472136 & -0.89442719~  \\\\\n",
    "\\end{matrix} \\right]$$"
   ]
  },
  {
   "cell_type": "code",
   "execution_count": 60,
   "metadata": {},
   "outputs": [
    {
     "name": "stdout",
     "output_type": "stream",
     "text": [
      "[[-0.89442719  0.4472136 ]\n",
      " [-0.4472136  -0.89442719]]\n"
     ]
    }
   ],
   "source": [
    "print(v)"
   ]
  },
  {
   "cell_type": "markdown",
   "metadata": {},
   "source": [
    "## f. [4 points] Using the matrix Φ in (e), create new transformed covariance matrix of Σ based on S as follows and compare it with S. What happens to S when it is transformed to Σ and why?"
   ]
  },
  {
   "cell_type": "code",
   "execution_count": 62,
   "metadata": {},
   "outputs": [
    {
     "name": "stdout",
     "output_type": "stream",
     "text": [
      "[[ 10.   0.]\n",
      " [  0.  40.]]\n"
     ]
    }
   ],
   "source": [
    "cov_new = np.dot(v.T,cov)\n",
    "cov_new = np.dot(cov_new,v)\n",
    "print(cov_new)"
   ]
  },
  {
   "cell_type": "markdown",
   "metadata": {},
   "source": [
    "$$\\left[ \\begin{matrix}\n",
    "   10 & 0  \\\\\n",
    "   0 & 40  \\\\\n",
    "\\end{matrix} \\right]\n",
    "$$"
   ]
  },
  {
   "cell_type": "markdown",
   "metadata": {},
   "source": [
    "We can represent the covariance matrix by its eigenvectors and eigenvalues,\n",
    "$$\\Sigma \\vec{v}=\\lambda \\vec{v}$$\n",
    "where $\\vec{v}$ is an eigenvector of $\\Sigma$, and $\\lambda$ is the corresponding eigenvalue.\n",
    "\n",
    "The system of two equations defined by equation (13) can be represented efficiently using matrix notation:\n",
    "\n",
    "   $$\\begin{equation*}  \\Sigma \\, V = V \\, L \\end{equation*}$$\n",
    "\n",
    "where $V$ is the matrix whose columns are the eigenvectors of $\\Sigma$ and $L$ is the diagonal matrix whose non-zero elements are the corresponding eigenvalues.\n",
    "\n",
    "$$\\begin{equation*}  V^{-1}\\Sigma \\, V = L \\end{equation*}$$\n",
    "where $L$ is the matrix above\n",
    "\n"
   ]
  },
  {
   "cell_type": "markdown",
   "metadata": {
    "collapsed": true
   },
   "source": [
    "## g.[8 points] Now consider new transformed 2D Gaussian distribution with new means of m’ and new covariance matrix of s’ as follows and draw the same contour pot of part (a) for this new distribution, what happened to this transformed distribution, and why?"
   ]
  },
  {
   "cell_type": "code",
   "execution_count": 86,
   "metadata": {},
   "outputs": [
    {
     "data": {
      "image/png": "[encoded data removed]",
      "text/plain": [
       "<matplotlib.figure.Figure at 0x24ac5135be0>"
      ]
     },
     "metadata": {},
     "output_type": "display_data"
    },
    {
     "name": "stdout",
     "output_type": "stream",
     "text": [
      "Mean = [-8.94427191  4.47213595]\n",
      "Eigen Vectors =  [[ 1.  0.]\n",
      " [ 0.  1.]]\n",
      "Eigen Values =  [ 10.  40.]\n"
     ]
    }
   ],
   "source": [
    "cov = cov_new\n",
    "mean = np.dot(v.T,mean)\n",
    "width = np.sqrt(10)*2\n",
    "height = np.sqrt(40)*2\n",
    "\n",
    "#eigen value decomposition of covariance to get rotation matrix \n",
    "l, v = np.linalg.eig(cov)\n",
    "#finding the angle of inclination\n",
    "degree = math.degrees(math.acos(v[0,0]))\n",
    "#print(degree)\n",
    "c = [\"g\",\"r\",\"b\"]\n",
    "fig, ax = plt.subplots()\n",
    "for x in range(1,4):\n",
    "    w = width * x\n",
    "    h = height * x\n",
    "    ax.add_patch(Ellipse(xy=mean, width=w, height=h, angle=degree, fill = False, color = c[x-1]))\n",
    "\n",
    "ax.set_aspect('equal')\n",
    "ax.autoscale()\n",
    "plt.show()\n",
    "print(\"Mean =\", mean)\n",
    "print(\"Eigen Vectors = \",v)\n",
    "print(\"Eigen Values = \", l)\n"
   ]
  },
  {
   "cell_type": "markdown",
   "metadata": {},
   "source": [
    "From eigen vectors, we can say that there is no longer any dependency between x and y i.e. they are independent. This happened because our new x and y axis are in the direction of the eigen vectors of the original distribution. Basically, the whole data is drawn on **Principal Components** of teh original distribution as x and y axis."
   ]
  },
  {
   "cell_type": "markdown",
   "metadata": {},
   "source": [
    "# 3.Read the question number 5 in assignment#1, and consider all the data points that you used for your classifier training, or you have generated for testing of your classifier in that\tquestion.\t"
   ]
  },
  {
   "cell_type": "markdown",
   "metadata": {},
   "source": [
    "## 2. [8 points] Now\ttry\tto\tdesign\tand\ttrain\tfour\tdifferent\tclassifiers\tincluding: KNN (with K=3,\tand\tK=5,\tand\tEuclidean\tdistance),\tProbabilistic\tNeural\tNetwork (PNN),\tSVM\t(with Gaussian\t Kernel),\t and\t Multi-layer Perceptron\t Neural\t network\t classifiers\t (MLP\t with Sigmoidal\tTransfer\tFunctions\t for\tits\thidden\tlayer\tneurons) on\t the\tsame\ttraining\tdata and\tevaluate\tthem\ton\tthe\tsame\ttesting\tdata that\tyou\thave\tgenerated\tin\tassignment\t1 (Question# 5).\t Briefly,\tExplain\tthe\tstructure\tof\teach\tof\tyour\tclassifiers\tand\tshow\ttheir performances\ton\tthe\ttraining\tset (using Confusion\tmatrix)."
   ]
  },
  {
   "cell_type": "code",
   "execution_count": 87,
   "metadata": {
    "collapsed": true
   },
   "outputs": [],
   "source": [
    "w1_x1 = [-5.01,-5.43,1.08,0.86,-2.67,4.94,-2.51,-2.25,5.56,1.03]\n",
    "w1_x2 = [-8.12,-3.48,-5.52,-3.78,0.63,3.29,2.09,-2.13,2.86,-3.33] \n",
    "w1_x3 = [-3.68,-3.54,1.66,-4.11,7.39,2.08,-2.59,-6.94,-2.26,4.33]\n",
    "w1_temp = [w1_x1,w1_x2,w1_x3]\n",
    "w1 = np.array([w1_x1,w1_x2,w1_x3])\n",
    "\n",
    "w2_x1 = [-0.91,1.3,-7.75,-5.47,6.14,3.6,5.37,7.18,-7.39,-7.5]\n",
    "w2_x2 = [-0.18,-2.06,-4.54,0.5,5.72,1.26,-4.63,1.46,1.17,-6.32]\n",
    "w2_x3 = [-0.05,-3.53,-0.95,3.92,-4.85,4.36,-3.65,-6.66,6.3,-0.31]\n",
    "w2_temp = [w2_x1,w2_x2,w2_x3]\n",
    "w2 = np.array([w2_x1,w2_x2,w2_x3])\n",
    "\n",
    "w3_x1 = [5.35,5.12,-1.34,4.48,7.11,7.17,5.75,0.77,0.9,3.52]\n",
    "w3_x2 = [2.26,3.22,-5.31,3.42,2.39,4.33,3.97,0.27,-0.43,-0.36]\n",
    "w3_x3 = [8.13,-2.66,-9.87,5.19,9.21,-0.98,6.65,2.41,-8.71,6.43]\n",
    "w3_temp = [w3_x1,w3_x2,w3_x3]\n",
    "w3 = np.array([w3_x1,w3_x2,w3_x3])"
   ]
  },
  {
   "cell_type": "code",
   "execution_count": 92,
   "metadata": {
    "collapsed": true
   },
   "outputs": [],
   "source": [
    "def mean(x):\n",
    "    return round(float(sum(x)/len(x)),3)\n",
    "\n",
    "#Calculating mean for class w1\n",
    "mean_w1 = []\n",
    "for x in w1_temp:\n",
    "    mean_w1.append(mean(x))\n",
    "    \n",
    "#Calculating mean for class w1\n",
    "mean_w2 = []\n",
    "for x in w2_temp:\n",
    "    mean_w2.append(mean(x))\n",
    "    \n",
    "#Calculating mean for class w1\n",
    "mean_w3 = []\n",
    "for x in w3_temp:\n",
    "    mean_w3.append(mean(x))\n",
    "    \n",
    "    \n",
    "#Calculating covariance for w1\n",
    "\n",
    "temp = w1 - np.resize(np.array(mean_w1),(3,1))\n",
    "cov_w1=[]\n",
    "for x in range(3):\n",
    "    calc = []\n",
    "    for y in range(3):\n",
    "        #NOTE ITS DIVIDED BY (N) NOT (N - 1)\n",
    "        calc.append(round(float(sum(temp[x]*temp[y]) / len(temp[x])),3))\n",
    "    cov_w1.append(calc)\n",
    "\n",
    "\n",
    "\n",
    "#Calculating covariance for w2\n",
    "\n",
    "temp = w2 - np.resize(np.array(mean_w2),(3,1))\n",
    "cov_w2 = []\n",
    "for x in range(3):\n",
    "    calc = []\n",
    "    for y in range(3):\n",
    "        #NOTE ITS DIVIDED BY (N) NOT (N - 1)\n",
    "        calc.append(round(float(sum(temp[x]*temp[y]) / len(temp[x])),3))\n",
    "    cov_w2.append(calc)\n",
    "\n",
    "\n",
    "\n",
    "#Calculating covariance for w3\n",
    "\n",
    "temp = w3 - np.resize(np.array(mean_w3),(3,1))\n",
    "cov_w3 = []\n",
    "for x in range(3):\n",
    "    calc = []\n",
    "    for y in range(3):\n",
    "        #NOTE ITS DIVIDED BY (N) NOT (N - 1)\n",
    "        calc.append(round(float(sum(temp[x]*temp[y]) / len(temp[x])),3))\n",
    "    cov_w3.append(calc)\n"
   ]
  },
  {
   "cell_type": "code",
   "execution_count": 117,
   "metadata": {
    "collapsed": true
   },
   "outputs": [],
   "source": [
    "def gen_rand_vector_gauss(mean_vec, cov_mat):\n",
    "    x1,x2,x3 = np.random.multivariate_normal(mean_vec, cov_mat)\n",
    "    return [x1,x2,x3]\n",
    "\n",
    "w1_rand = []\n",
    "w2_rand = []\n",
    "w3_rand = []\n",
    "lst_w = [w1_rand,w2_rand,w3_rand]\n",
    "lst_w_mean = [mean_w1,mean_w2,mean_w3]\n",
    "lst_w_cov = [cov_w1,cov_w2,cov_w3]\n",
    "\n",
    "for i in range(3):\n",
    "    for j in range(5):\n",
    "        lst_w[i].append(gen_rand_vector_gauss(lst_w_mean[i], lst_w_cov[i]))\n",
    "        \n",
    "w1_rand = np.asarray(w1_rand)\n",
    "w2_rand = np.asarray(w2_rand)\n",
    "w3_rand = np.asarray(w3_rand)"
   ]
  },
  {
   "cell_type": "code",
   "execution_count": 120,
   "metadata": {
    "collapsed": true
   },
   "outputs": [],
   "source": [
    "#train set\n",
    "train_X=np.concatenate((w1.T,w2.T),axis=0)\n",
    "train_X=np.concatenate((train_X,w3.T),axis=0)\n",
    "\n",
    "train_Y = []\n",
    "temp = [0, 1, 2]\n",
    "\n",
    "for x in temp:\n",
    "    for y in range(10):\n",
    "        train_Y.append(x)"
   ]
  },
  {
   "cell_type": "code",
   "execution_count": 121,
   "metadata": {
    "collapsed": true
   },
   "outputs": [],
   "source": [
    "#test set\n",
    "test_X = np.concatenate((w1_rand,w2_rand),axis=0)\n",
    "test_X = np.concatenate((test_X,w3_rand),axis=0)\n",
    "\n",
    "test_Y = []\n",
    "temp = [0, 1, 2]\n",
    "\n",
    "for x in temp:\n",
    "    for y in range(5):\n",
    "        test_Y.append(x)\n"
   ]
  },
  {
   "cell_type": "markdown",
   "metadata": {},
   "source": [
    "###  KNN"
   ]
  },
  {
   "cell_type": "code",
   "execution_count": 206,
   "metadata": {},
   "outputs": [
    {
     "name": "stdout",
     "output_type": "stream",
     "text": [
      "----------------------------------------TRAINING ACCURACY--------------------------------------------\n",
      "\n",
      "Making Predictions on Test Data...\n",
      "\n",
      "Calculating Accuracy of Predictions...\n",
      "Accuracy 0.7\n",
      "\n",
      "Creating Confusion Matrix...\n",
      "[[6 2 2]\n",
      " [2 7 1]\n",
      " [1 1 8]]\n"
     ]
    }
   ],
   "source": [
    "from sklearn.neighbors import KNeighborsClassifier\n",
    "from sklearn.metrics import accuracy_score,confusion_matrix\n",
    "\n",
    "\n",
    "classifier_3 = KNeighborsClassifier(n_neighbors = 3)\n",
    "classifier_3.fit(train_X,train_Y)\n",
    "\n",
    "print(\"----------------------------------------TRAINING ACCURACY--------------------------------------------\")\n",
    "print('\\nMaking Predictions on Test Data...')\n",
    "pred = classifier_3.predict(train_X)\n",
    "\n",
    "print('\\nCalculating Accuracy of Predictions...')\n",
    "accuracy = accuracy_score(train_Y, pred)\n",
    "print(\"Accuracy\", accuracy)\n",
    "\n",
    "print('\\nCreating Confusion Matrix...')\n",
    "conf_mat = confusion_matrix(train_Y, pred)\n",
    "print(conf_mat)"
   ]
  },
  {
   "cell_type": "code",
   "execution_count": 207,
   "metadata": {},
   "outputs": [
    {
     "name": "stdout",
     "output_type": "stream",
     "text": [
      "----------------------------------------TRAINING ACCURACY--------------------------------------------\n",
      "\n",
      "Making Predictions on Test Data...\n",
      "\n",
      "Calculating Accuracy of Predictions...\n",
      "Accuracy 0.766666666667\n",
      "\n",
      "Creating Confusion Matrix...\n",
      "[[10  0  0]\n",
      " [ 1  8  1]\n",
      " [ 4  1  5]]\n"
     ]
    }
   ],
   "source": [
    "classifier_5 = KNeighborsClassifier(n_neighbors = 5)\n",
    "classifier_5.fit(train_X,train_Y)\n",
    "\n",
    "print(\"----------------------------------------TRAINING ACCURACY--------------------------------------------\")\n",
    "print('\\nMaking Predictions on Test Data...')\n",
    "pred = classifier_5.predict(train_X)\n",
    "\n",
    "print('\\nCalculating Accuracy of Predictions...')\n",
    "accuracy = accuracy_score(train_Y, pred)\n",
    "print(\"Accuracy\", accuracy)\n",
    "\n",
    "print('\\nCreating Confusion Matrix...')\n",
    "conf_mat = confusion_matrix(train_Y, pred)\n",
    "print(conf_mat)"
   ]
  },
  {
   "cell_type": "markdown",
   "metadata": {},
   "source": [
    "### \tProbabilistic\tNeural\tNetwork (PNN)"
   ]
  },
  {
   "cell_type": "code",
   "execution_count": 208,
   "metadata": {},
   "outputs": [
    {
     "name": "stdout",
     "output_type": "stream",
     "text": [
      "----------------------------------------TRAINIG ACCURACY--------------------------------------------\n",
      "\n",
      "Making Predictions on Test Data...\n",
      "\n",
      "Calculating Accuracy of Predictions...\n",
      "Accuracy 0.933333333333\n",
      "\n",
      "Creating Confusion Matrix...\n",
      "[[ 9  0  1]\n",
      " [ 0  9  1]\n",
      " [ 0  0 10]]\n"
     ]
    }
   ],
   "source": [
    "from neupy import algorithms\n",
    "\n",
    "# std dev = 3\n",
    "#4 gives best\n",
    "classifier = algorithms.PNN(std=3, verbose=False)\n",
    "classifier.train(train_X, train_Y)\n",
    "\n",
    "print(\"----------------------------------------TRAINIG ACCURACY--------------------------------------------\")\n",
    "print('\\nMaking Predictions on Test Data...')\n",
    "pred = classifier.predict(train_X)\n",
    "\n",
    "print('\\nCalculating Accuracy of Predictions...')\n",
    "accuracy = accuracy_score(train_Y, pred)\n",
    "print(\"Accuracy\", accuracy)\n",
    "\n",
    "print('\\nCreating Confusion Matrix...')\n",
    "conf_mat = confusion_matrix(train_Y, pred)\n",
    "print(conf_mat)\n"
   ]
  },
  {
   "cell_type": "markdown",
   "metadata": {},
   "source": [
    "### Support Vector Machine"
   ]
  },
  {
   "cell_type": "code",
   "execution_count": 263,
   "metadata": {},
   "outputs": [
    {
     "name": "stdout",
     "output_type": "stream",
     "text": [
      "----------------------------------------TRAINING ACCURACY--------------------------------------------\n",
      "\n",
      "Making Predictions on Train Data...\n",
      "\n",
      "Calculating Accuracy of Predictions...\n",
      "Accuracy 0.9\n",
      "\n",
      "Creating Confusion Matrix...\n",
      "[[ 8  0  2]\n",
      " [ 0  9  1]\n",
      " [ 0  0 10]]\n"
     ]
    }
   ],
   "source": [
    "from sklearn import svm\n",
    "\n",
    "clf = svm.SVC(gamma=1/20, kernel='rbf')\n",
    "clf.fit(train_X, train_Y)\n",
    "\n",
    "print(\"----------------------------------------TRAINING ACCURACY--------------------------------------------\")\n",
    "print('\\nMaking Predictions on Train Data...')\n",
    "pred = clf.predict(train_X)\n",
    "\n",
    "print('\\nCalculating Accuracy of Predictions...')\n",
    "accuracy = accuracy_score(train_Y, pred)\n",
    "print(\"Accuracy\", accuracy)\n",
    "\n",
    "print('\\nCreating Confusion Matrix...')\n",
    "conf_mat = confusion_matrix(train_Y, pred)\n",
    "print(conf_mat)"
   ]
  },
  {
   "cell_type": "markdown",
   "metadata": {},
   "source": [
    "### Multi Layer Perceptron"
   ]
  },
  {
   "cell_type": "code",
   "execution_count": 275,
   "metadata": {},
   "outputs": [
    {
     "name": "stdout",
     "output_type": "stream",
     "text": [
      "----------------------------------------TRAINING ACCURACY--------------------------------------------\n",
      "\n",
      "Making Predictions on Train Data...\n",
      "\n",
      "Calculating Accuracy of Predictions...\n",
      "Accuracy 0.633333333333\n",
      "\n",
      "Creating Confusion Matrix...\n",
      "[[8 0 2]\n",
      " [5 3 2]\n",
      " [1 1 8]]\n"
     ]
    }
   ],
   "source": [
    "from sklearn.neural_network import MLPClassifier\n",
    "\n",
    "clf = MLPClassifier(hidden_layer_sizes=(2), activation='logistic', solver='sgd', batch_size=1,\n",
    "                    learning_rate = 'adaptive', learning_rate_init=0.001, max_iter=2000, random_state=2)\n",
    "clf.fit(train_X, train_Y)\n",
    "\n",
    "print(\"----------------------------------------TRAINING ACCURACY--------------------------------------------\")\n",
    "print('\\nMaking Predictions on Train Data...')\n",
    "pred = clf.predict(train_X)\n",
    "\n",
    "print('\\nCalculating Accuracy of Predictions...')\n",
    "accuracy = accuracy_score(train_Y, pred)\n",
    "print(\"Accuracy\", accuracy)\n",
    "\n",
    "print('\\nCreating Confusion Matrix...')\n",
    "conf_mat = confusion_matrix(train_Y, pred)\n",
    "print(conf_mat)"
   ]
  },
  {
   "cell_type": "markdown",
   "metadata": {},
   "source": [
    "## (b)\t[12 points] Conduct\tsome experiments\ton\tthe\ttesting\tset\tand\tif\tapplicable\tdo\tyour best\tto\tfind\tor\tchoose\tparameter or\thyper-parameter\tvalues\tfor\teach\tof\tyour\tclassifiers\tsuch that\tperformances of\tyour\tclassifiers\tare improved.\tShow\tthe\tConfusion\tmatrix of your classifiers on\tthe\ttesting set.\tNow,\tcompare\tthese\tclassifiers, which\tclassifier\thas\ta\tbetter\tperformance\ton\tyour\ttesting\tset?"
   ]
  },
  {
   "cell_type": "markdown",
   "metadata": {},
   "source": [
    "###  KNN"
   ]
  },
  {
   "cell_type": "code",
   "execution_count": 262,
   "metadata": {},
   "outputs": [
    {
     "name": "stdout",
     "output_type": "stream",
     "text": [
      "k-NN with k as  1  has test accuracy of  0.666666666667\n",
      "k-NN with k as  2  has test accuracy of  0.533333333333\n",
      "k-NN with k as  3  has test accuracy of  0.8\n",
      "k-NN with k as  4  has test accuracy of  0.466666666667\n",
      "k-NN with k as  5  has test accuracy of  0.533333333333\n",
      "k-NN with k as  6  has test accuracy of  0.533333333333\n",
      "k-NN with k as  7  has test accuracy of  0.533333333333\n",
      "k-NN with k as  8  has test accuracy of  0.466666666667\n",
      "k-NN with k as  9  has test accuracy of  0.6\n",
      "k-NN with k as  10  has test accuracy of  0.466666666667\n",
      "k-NN with k as  11  has test accuracy of  0.266666666667\n",
      "k-NN with k as  12  has test accuracy of  0.466666666667\n",
      "k-NN with k as  13  has test accuracy of  0.266666666667\n",
      "k-NN with k as  14  has test accuracy of  0.266666666667\n",
      "k-NN with k as  15  has test accuracy of  0.2\n",
      "k-NN with k as  16  has test accuracy of  0.266666666667\n",
      "k-NN with k as  17  has test accuracy of  0.4\n",
      "k-NN with k as  18  has test accuracy of  0.4\n",
      "k-NN with k as  19  has test accuracy of  0.333333333333\n",
      "k-NN with k as  20  has test accuracy of  0.333333333333\n",
      "k-NN with k as  21  has test accuracy of  0.333333333333\n",
      "k-NN with k as  22  has test accuracy of  0.333333333333\n",
      "k-NN with k as  23  has test accuracy of  0.266666666667\n",
      "k-NN with k as  24  has test accuracy of  0.333333333333\n",
      "k-NN with k as  25  has test accuracy of  0.266666666667\n",
      "k-NN with k as  26  has test accuracy of  0.333333333333\n",
      "k-NN with k as  27  has test accuracy of  0.333333333333\n",
      "k-NN with k as  28  has test accuracy of  0.2\n",
      "k-NN with k as  29  has test accuracy of  0.266666666667\n",
      "k-NN with k as  30  has test accuracy of  0.333333333333\n",
      "\n",
      "\n",
      "---------------------------Best k---------------------------\n",
      "The best k for k-NN is  3  which has an accuracy of  0.8\n",
      "The confusion matrix \n",
      " [[5 0 0]\n",
      " [2 3 0]\n",
      " [1 0 4]]\n"
     ]
    }
   ],
   "source": [
    "acc = 0\n",
    "conf = None\n",
    "knn = None\n",
    "for k in range(1,31):\n",
    "    classifier = KNeighborsClassifier(n_neighbors = k)\n",
    "    classifier.fit(train_X,train_Y)\n",
    "    pred = classifier.predict(test_X)\n",
    "    accuracy = accuracy_score(test_Y, pred)\n",
    "    conf_mat = confusion_matrix(test_Y, pred)\n",
    "    print(\"k-NN with k as \",k,\" has test accuracy of \",accuracy )\n",
    "    if(accuracy>acc):\n",
    "        knn = k\n",
    "        acc = accuracy\n",
    "        conf = conf_mat\n",
    "print(\"\\n\\n---------------------------Best k---------------------------\")  \n",
    "print(\"The best k for k-NN is \",knn,\" which has an accuracy of \", acc)\n",
    "print(\"The confusion matrix \\n\", conf)\n",
    "    "
   ]
  },
  {
   "cell_type": "markdown",
   "metadata": {},
   "source": [
    "### \tProbabilistic\tNeural\tNetwork (PNN)"
   ]
  },
  {
   "cell_type": "code",
   "execution_count": 264,
   "metadata": {},
   "outputs": [
    {
     "name": "stdout",
     "output_type": "stream",
     "text": [
      "PNN with std. dev =  1  has test accuracy =  0.666666666667\n",
      "PNN with std. dev =  2  has test accuracy =  0.666666666667\n",
      "PNN with std. dev =  3  has test accuracy =  0.733333333333\n",
      "PNN with std. dev =  4  has test accuracy =  0.8\n",
      "PNN with std. dev =  5  has test accuracy =  0.733333333333\n",
      "PNN with std. dev =  6  has test accuracy =  0.533333333333\n",
      "PNN with std. dev =  7  has test accuracy =  0.533333333333\n",
      "PNN with std. dev =  8  has test accuracy =  0.466666666667\n",
      "PNN with std. dev =  9  has test accuracy =  0.466666666667\n",
      "PNN with std. dev =  10  has test accuracy =  0.466666666667\n",
      "\n",
      "\n",
      "---------------------------Best std---------------------------\n",
      "The best std for PNN is  4  which has an accuracy of  0.8\n",
      "The confusion matrix \n",
      " [[3 1 1]\n",
      " [1 4 0]\n",
      " [0 0 5]]\n"
     ]
    }
   ],
   "source": [
    "acc = 0\n",
    "conf = None\n",
    "best_std = None\n",
    "\n",
    "for stdv in range(1,11):\n",
    "    classifier = algorithms.PNN(std=stdv, verbose=False)\n",
    "    classifier.train(train_X, train_Y)\n",
    "    pred = classifier.predict(test_X)\n",
    "    accuracy = accuracy_score(test_Y, pred)\n",
    "    conf_mat = confusion_matrix(test_Y, pred)\n",
    "    print(\"PNN with std. dev = \",stdv,\" has test accuracy = \",accuracy )\n",
    "    if(accuracy>acc):\n",
    "        best_std = stdv\n",
    "        acc = accuracy\n",
    "        conf = conf_mat\n",
    "        \n",
    "print(\"\\n\\n---------------------------Best std---------------------------\")  \n",
    "print(\"The best std for PNN is \",best_std,\" which has an accuracy of \", acc)\n",
    "print(\"The confusion matrix \\n\", conf)"
   ]
  },
  {
   "cell_type": "markdown",
   "metadata": {},
   "source": [
    "### Support Vector Machine"
   ]
  },
  {
   "cell_type": "code",
   "execution_count": 265,
   "metadata": {},
   "outputs": [
    {
     "name": "stdout",
     "output_type": "stream",
     "text": [
      "SVM with gamma =  1.0  has test accuracy =  0.333333333333\n",
      "SVM with gamma =  0.5  has test accuracy =  0.466666666667\n",
      "SVM with gamma =  0.3333333333333333  has test accuracy =  0.6\n",
      "SVM with gamma =  0.25  has test accuracy =  0.6\n",
      "SVM with gamma =  0.2  has test accuracy =  0.6\n",
      "SVM with gamma =  0.16666666666666666  has test accuracy =  0.6\n",
      "SVM with gamma =  0.14285714285714285  has test accuracy =  0.666666666667\n",
      "SVM with gamma =  0.125  has test accuracy =  0.733333333333\n",
      "SVM with gamma =  0.1111111111111111  has test accuracy =  0.733333333333\n",
      "SVM with gamma =  0.1  has test accuracy =  0.733333333333\n",
      "SVM with gamma =  0.09090909090909091  has test accuracy =  0.8\n",
      "SVM with gamma =  0.08333333333333333  has test accuracy =  0.8\n",
      "SVM with gamma =  0.07692307692307693  has test accuracy =  0.8\n",
      "SVM with gamma =  0.07142857142857142  has test accuracy =  0.866666666667\n",
      "SVM with gamma =  0.06666666666666667  has test accuracy =  0.8\n",
      "SVM with gamma =  0.0625  has test accuracy =  0.8\n",
      "SVM with gamma =  0.058823529411764705  has test accuracy =  0.8\n",
      "SVM with gamma =  0.05555555555555555  has test accuracy =  0.8\n",
      "SVM with gamma =  0.05263157894736842  has test accuracy =  0.8\n",
      "SVM with gamma =  0.05  has test accuracy =  0.8\n",
      "SVM with gamma =  0.047619047619047616  has test accuracy =  0.8\n",
      "SVM with gamma =  0.045454545454545456  has test accuracy =  0.8\n",
      "SVM with gamma =  0.043478260869565216  has test accuracy =  0.8\n",
      "SVM with gamma =  0.041666666666666664  has test accuracy =  0.8\n",
      "SVM with gamma =  0.04  has test accuracy =  0.8\n",
      "SVM with gamma =  0.038461538461538464  has test accuracy =  0.8\n",
      "SVM with gamma =  0.037037037037037035  has test accuracy =  0.8\n",
      "SVM with gamma =  0.03571428571428571  has test accuracy =  0.8\n",
      "SVM with gamma =  0.034482758620689655  has test accuracy =  0.8\n",
      "SVM with gamma =  0.03333333333333333  has test accuracy =  0.8\n",
      "\n",
      "\n",
      "---------------------------Best gamma---------------------------\n",
      "The best gamma for SVM is  0.07142857142857142  which has an accuracy of  0.866666666667\n",
      "The confusion matrix \n",
      " [[3 1 1]\n",
      " [0 5 0]\n",
      " [0 0 5]]\n"
     ]
    }
   ],
   "source": [
    "acc = 0\n",
    "conf = None\n",
    "best_gamma = None\n",
    "\n",
    "for g in range(1,31):\n",
    "    classifier = svm.SVC(gamma=1/g, kernel='rbf')\n",
    "    classifier.fit(train_X, train_Y)\n",
    "    pred = classifier.predict(test_X)\n",
    "    accuracy = accuracy_score(test_Y, pred)\n",
    "    conf_mat = confusion_matrix(test_Y, pred)\n",
    "    print(\"SVM with gamma = \",1/g,\" has test accuracy = \",accuracy )\n",
    "    if(accuracy>acc):\n",
    "        best_gamma = 1/g\n",
    "        acc = accuracy\n",
    "        conf = conf_mat\n",
    "        \n",
    "print(\"\\n\\n---------------------------Best gamma---------------------------\")  \n",
    "print(\"The best gamma for SVM is \",best_gamma,\" which has an accuracy of \", acc)\n",
    "print(\"The confusion matrix \\n\", conf)"
   ]
  },
  {
   "cell_type": "markdown",
   "metadata": {},
   "source": [
    "### Multi Layer Perceptron"
   ]
  },
  {
   "cell_type": "code",
   "execution_count": 276,
   "metadata": {},
   "outputs": [
    {
     "name": "stdout",
     "output_type": "stream",
     "text": [
      "----------------------------------------TESTING ACCURACY--------------------------------------------\n",
      "\n",
      "Making Predictions on Test Data...\n",
      "\n",
      "Calculating Accuracy of Predictions...\n",
      "Accuracy 0.6\n",
      "\n",
      "Creating Confusion Matrix...\n",
      "[[3 0 2]\n",
      " [1 2 2]\n",
      " [1 0 4]]\n"
     ]
    }
   ],
   "source": [
    "clf = MLPClassifier(hidden_layer_sizes=(3), activation='logistic', solver='sgd', batch_size=1, \n",
    "                    learning_rate = 'adaptive', learning_rate_init=0.0001, max_iter=2000, random_state=2)\n",
    "clf.fit(train_X, train_Y)\n",
    "\n",
    "#-------------------------------------- ACCURACY----------------------------------\n",
    "print(\"----------------------------------------TESTING ACCURACY--------------------------------------------\")\n",
    "print('\\nMaking Predictions on Test Data...')\n",
    "pred = clf.predict(test_X)\n",
    "\n",
    "print('\\nCalculating Accuracy of Predictions...')\n",
    "accuracy = accuracy_score(test_Y, pred)\n",
    "print(\"Accuracy\", accuracy)\n",
    "\n",
    "print('\\nCreating Confusion Matrix...')\n",
    "conf_mat = confusion_matrix(test_Y, pred)\n",
    "print(conf_mat)"
   ]
  },
  {
   "cell_type": "markdown",
   "metadata": {},
   "source": [
    "## (c) [4 points] Choose three of your designed classifiers in (b) and try to combine them using a majority voting scheme. Now, again find the confusion matrix of this classifier combination and compare it with the results in (b) what is your conclusion?"
   ]
  },
  {
   "cell_type": "code",
   "execution_count": 268,
   "metadata": {},
   "outputs": [
    {
     "name": "stdout",
     "output_type": "stream",
     "text": [
      "Accuracy 0.8\n",
      "[[3 1 1]\n",
      " [1 4 0]\n",
      " [0 0 5]]\n"
     ]
    }
   ],
   "source": [
    "#k-NN\n",
    "classifier_knn = KNeighborsClassifier(n_neighbors = 3)\n",
    "classifier_knn.fit(train_X,train_Y)\n",
    "\n",
    "#PNN\n",
    "classifier_pnn = algorithms.PNN(std=4, verbose=False)\n",
    "classifier_pnn.train(train_X, train_Y)\n",
    "\n",
    "#SVM\n",
    "classifier_svm = svm.SVC(gamma=0.07142857142857142, kernel='rbf')\n",
    "classifier_svm.fit(train_X, train_Y)\n",
    "\n",
    "\n",
    "knn = classifier_knn.predict(test_X)\n",
    "pnn = classifier_pnn.predict(test_X)\n",
    "suvm = classifier_svm.predict(test_X)\n",
    "\n",
    "pred = []\n",
    "for i in range(0,15):\n",
    "    if knn[i] == pnn[i] :\n",
    "        pred.append(pnn[i])\n",
    "        continue\n",
    "    if pnn[i] == suvm[i] :\n",
    "        pred.append(pnn[i])\n",
    "        continue\n",
    "    if suvm[i] == pnn[i] :\n",
    "        pred.append(pnn[i])\n",
    "        continue\n",
    "    if knn[i] != pnn[i] and pnn[i] != suvm[i] :\n",
    "        pred.append(knn[i])\n",
    "        continue\n",
    "accuracy = accuracy_score(test_Y, pred)\n",
    "print(\"Accuracy\", accuracy)\n",
    "print(confusion_matrix(test_Y, pred))\n",
    "\n"
   ]
  },
  {
   "cell_type": "markdown",
   "metadata": {},
   "source": [
    "It didnt beat individual classifiers but overall achieved 80% accuracy"
   ]
  },
  {
   "cell_type": "markdown",
   "metadata": {},
   "source": [
    "## (d) [8 points] Cluster all the points that you have in your testing set (used in part b) using K-Means algorithm (with different values of K=2,3,4, 5, 6, ...). Use elbow method discussed in our lecture notes and find the best value of K for clustering this testing data points. Is your clustering algorithm able to detect original distribution of data belonging to three classes of W1, W2, and W3?"
   ]
  },
  {
   "cell_type": "code",
   "execution_count": 274,
   "metadata": {},
   "outputs": [
    {
     "data": {
      "image/png": "[encoded data removed]",
      "text/plain": [
       "<matplotlib.figure.Figure at 0x24a8130c710>"
      ]
     },
     "metadata": {},
     "output_type": "display_data"
    }
   ],
   "source": [
    "from sklearn.cluster import KMeans\n",
    "\n",
    "Nc = range(1, 30)\n",
    "kmeans = [KMeans(n_clusters=i) for i in Nc]\n",
    "kmeans\n",
    "score = [kmeans[i].fit(train_X).score(train_X) for i in range(len(kmeans))]\n",
    "score\n",
    "plt.plot(Nc,score,marker='o', color='b')\n",
    "plt.xlabel('Number of Clusters')\n",
    "plt.ylabel('Score')\n",
    "plt.title('Elbow Curve')\n",
    "plt.show()"
   ]
  },
  {
   "cell_type": "markdown",
   "metadata": {},
   "source": [
    "The best cluster k = 5 or 6. The real distribution wasnt captured. Maybe if we did PCA and then do k-means we could have captured the original distribution"
   ]
  },
  {
   "cell_type": "code",
   "execution_count": null,
   "metadata": {
    "collapsed": true
   },
   "outputs": [],
   "source": []
  }
 ],
 "metadata": {
  "kernelspec": {
   "display_name": "Python 3",
   "language": "python",
   "name": "python3"
  },
  "language_info": {
   "codemirror_mode": {
    "name": "ipython",
    "version": 3
   },
   "file_extension": ".py",
   "mimetype": "text/x-python",
   "name": "python",
   "nbconvert_exporter": "python",
   "pygments_lexer": "ipython3",
   "version": "3.6.3"
  }
 },
 "nbformat": 4,
 "nbformat_minor": 2
}
